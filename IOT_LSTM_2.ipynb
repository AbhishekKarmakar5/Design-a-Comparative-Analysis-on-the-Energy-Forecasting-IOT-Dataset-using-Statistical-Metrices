{
  "nbformat": 4,
  "nbformat_minor": 0,
  "metadata": {
    "colab": {
      "provenance": []
    },
    "kernelspec": {
      "name": "python3",
      "display_name": "Python 3"
    },
    "language_info": {
      "name": "python"
    }
  },
  "cells": [
    {
      "cell_type": "code",
      "execution_count": null,
      "metadata": {
        "id": "cwpGcyVmXm1G",
        "colab": {
          "base_uri": "https://localhost:8080/"
        },
        "outputId": "c2ad9670-a7c8-43d1-f385-3f8a9981e6ca"
      },
      "outputs": [
        {
          "output_type": "stream",
          "name": "stdout",
          "text": [
            "Looking in indexes: https://pypi.org/simple, https://us-python.pkg.dev/colab-wheels/public/simple/\n",
            "Requirement already satisfied: opendatasets in /usr/local/lib/python3.7/dist-packages (0.1.22)\n",
            "Requirement already satisfied: click in /usr/local/lib/python3.7/dist-packages (from opendatasets) (7.1.2)\n",
            "Requirement already satisfied: kaggle in /usr/local/lib/python3.7/dist-packages (from opendatasets) (1.5.12)\n",
            "Requirement already satisfied: tqdm in /usr/local/lib/python3.7/dist-packages (from opendatasets) (4.64.1)\n",
            "Requirement already satisfied: python-slugify in /usr/local/lib/python3.7/dist-packages (from kaggle->opendatasets) (6.1.2)\n",
            "Requirement already satisfied: six>=1.10 in /usr/local/lib/python3.7/dist-packages (from kaggle->opendatasets) (1.15.0)\n",
            "Requirement already satisfied: requests in /usr/local/lib/python3.7/dist-packages (from kaggle->opendatasets) (2.23.0)\n",
            "Requirement already satisfied: python-dateutil in /usr/local/lib/python3.7/dist-packages (from kaggle->opendatasets) (2.8.2)\n",
            "Requirement already satisfied: certifi in /usr/local/lib/python3.7/dist-packages (from kaggle->opendatasets) (2022.9.24)\n",
            "Requirement already satisfied: urllib3 in /usr/local/lib/python3.7/dist-packages (from kaggle->opendatasets) (1.24.3)\n",
            "Requirement already satisfied: text-unidecode>=1.3 in /usr/local/lib/python3.7/dist-packages (from python-slugify->kaggle->opendatasets) (1.3)\n",
            "Requirement already satisfied: idna<3,>=2.5 in /usr/local/lib/python3.7/dist-packages (from requests->kaggle->opendatasets) (2.10)\n",
            "Requirement already satisfied: chardet<4,>=3.0.2 in /usr/local/lib/python3.7/dist-packages (from requests->kaggle->opendatasets) (3.0.4)\n"
          ]
        }
      ],
      "source": [
        "!pip install opendatasets --upgrade"
      ]
    },
    {
      "cell_type": "code",
      "source": [
        "from google.colab import files\n",
        "files.upload()"
      ],
      "metadata": {
        "id": "YcRrydO4ePh4",
        "colab": {
          "base_uri": "https://localhost:8080/",
          "height": 92
        },
        "outputId": "0cb83494-9d5d-48ad-d215-6ecc0b0fd008"
      },
      "execution_count": null,
      "outputs": [
        {
          "output_type": "display_data",
          "data": {
            "text/plain": [
              "<IPython.core.display.HTML object>"
            ],
            "text/html": [
              "\n",
              "     <input type=\"file\" id=\"files-7ead30f7-d105-4ed1-8a98-4d60e3aacef3\" name=\"files[]\" multiple disabled\n",
              "        style=\"border:none\" />\n",
              "     <output id=\"result-7ead30f7-d105-4ed1-8a98-4d60e3aacef3\">\n",
              "      Upload widget is only available when the cell has been executed in the\n",
              "      current browser session. Please rerun this cell to enable.\n",
              "      </output>\n",
              "      <script>// Copyright 2017 Google LLC\n",
              "//\n",
              "// Licensed under the Apache License, Version 2.0 (the \"License\");\n",
              "// you may not use this file except in compliance with the License.\n",
              "// You may obtain a copy of the License at\n",
              "//\n",
              "//      http://www.apache.org/licenses/LICENSE-2.0\n",
              "//\n",
              "// Unless required by applicable law or agreed to in writing, software\n",
              "// distributed under the License is distributed on an \"AS IS\" BASIS,\n",
              "// WITHOUT WARRANTIES OR CONDITIONS OF ANY KIND, either express or implied.\n",
              "// See the License for the specific language governing permissions and\n",
              "// limitations under the License.\n",
              "\n",
              "/**\n",
              " * @fileoverview Helpers for google.colab Python module.\n",
              " */\n",
              "(function(scope) {\n",
              "function span(text, styleAttributes = {}) {\n",
              "  const element = document.createElement('span');\n",
              "  element.textContent = text;\n",
              "  for (const key of Object.keys(styleAttributes)) {\n",
              "    element.style[key] = styleAttributes[key];\n",
              "  }\n",
              "  return element;\n",
              "}\n",
              "\n",
              "// Max number of bytes which will be uploaded at a time.\n",
              "const MAX_PAYLOAD_SIZE = 100 * 1024;\n",
              "\n",
              "function _uploadFiles(inputId, outputId) {\n",
              "  const steps = uploadFilesStep(inputId, outputId);\n",
              "  const outputElement = document.getElementById(outputId);\n",
              "  // Cache steps on the outputElement to make it available for the next call\n",
              "  // to uploadFilesContinue from Python.\n",
              "  outputElement.steps = steps;\n",
              "\n",
              "  return _uploadFilesContinue(outputId);\n",
              "}\n",
              "\n",
              "// This is roughly an async generator (not supported in the browser yet),\n",
              "// where there are multiple asynchronous steps and the Python side is going\n",
              "// to poll for completion of each step.\n",
              "// This uses a Promise to block the python side on completion of each step,\n",
              "// then passes the result of the previous step as the input to the next step.\n",
              "function _uploadFilesContinue(outputId) {\n",
              "  const outputElement = document.getElementById(outputId);\n",
              "  const steps = outputElement.steps;\n",
              "\n",
              "  const next = steps.next(outputElement.lastPromiseValue);\n",
              "  return Promise.resolve(next.value.promise).then((value) => {\n",
              "    // Cache the last promise value to make it available to the next\n",
              "    // step of the generator.\n",
              "    outputElement.lastPromiseValue = value;\n",
              "    return next.value.response;\n",
              "  });\n",
              "}\n",
              "\n",
              "/**\n",
              " * Generator function which is called between each async step of the upload\n",
              " * process.\n",
              " * @param {string} inputId Element ID of the input file picker element.\n",
              " * @param {string} outputId Element ID of the output display.\n",
              " * @return {!Iterable<!Object>} Iterable of next steps.\n",
              " */\n",
              "function* uploadFilesStep(inputId, outputId) {\n",
              "  const inputElement = document.getElementById(inputId);\n",
              "  inputElement.disabled = false;\n",
              "\n",
              "  const outputElement = document.getElementById(outputId);\n",
              "  outputElement.innerHTML = '';\n",
              "\n",
              "  const pickedPromise = new Promise((resolve) => {\n",
              "    inputElement.addEventListener('change', (e) => {\n",
              "      resolve(e.target.files);\n",
              "    });\n",
              "  });\n",
              "\n",
              "  const cancel = document.createElement('button');\n",
              "  inputElement.parentElement.appendChild(cancel);\n",
              "  cancel.textContent = 'Cancel upload';\n",
              "  const cancelPromise = new Promise((resolve) => {\n",
              "    cancel.onclick = () => {\n",
              "      resolve(null);\n",
              "    };\n",
              "  });\n",
              "\n",
              "  // Wait for the user to pick the files.\n",
              "  const files = yield {\n",
              "    promise: Promise.race([pickedPromise, cancelPromise]),\n",
              "    response: {\n",
              "      action: 'starting',\n",
              "    }\n",
              "  };\n",
              "\n",
              "  cancel.remove();\n",
              "\n",
              "  // Disable the input element since further picks are not allowed.\n",
              "  inputElement.disabled = true;\n",
              "\n",
              "  if (!files) {\n",
              "    return {\n",
              "      response: {\n",
              "        action: 'complete',\n",
              "      }\n",
              "    };\n",
              "  }\n",
              "\n",
              "  for (const file of files) {\n",
              "    const li = document.createElement('li');\n",
              "    li.append(span(file.name, {fontWeight: 'bold'}));\n",
              "    li.append(span(\n",
              "        `(${file.type || 'n/a'}) - ${file.size} bytes, ` +\n",
              "        `last modified: ${\n",
              "            file.lastModifiedDate ? file.lastModifiedDate.toLocaleDateString() :\n",
              "                                    'n/a'} - `));\n",
              "    const percent = span('0% done');\n",
              "    li.appendChild(percent);\n",
              "\n",
              "    outputElement.appendChild(li);\n",
              "\n",
              "    const fileDataPromise = new Promise((resolve) => {\n",
              "      const reader = new FileReader();\n",
              "      reader.onload = (e) => {\n",
              "        resolve(e.target.result);\n",
              "      };\n",
              "      reader.readAsArrayBuffer(file);\n",
              "    });\n",
              "    // Wait for the data to be ready.\n",
              "    let fileData = yield {\n",
              "      promise: fileDataPromise,\n",
              "      response: {\n",
              "        action: 'continue',\n",
              "      }\n",
              "    };\n",
              "\n",
              "    // Use a chunked sending to avoid message size limits. See b/62115660.\n",
              "    let position = 0;\n",
              "    do {\n",
              "      const length = Math.min(fileData.byteLength - position, MAX_PAYLOAD_SIZE);\n",
              "      const chunk = new Uint8Array(fileData, position, length);\n",
              "      position += length;\n",
              "\n",
              "      const base64 = btoa(String.fromCharCode.apply(null, chunk));\n",
              "      yield {\n",
              "        response: {\n",
              "          action: 'append',\n",
              "          file: file.name,\n",
              "          data: base64,\n",
              "        },\n",
              "      };\n",
              "\n",
              "      let percentDone = fileData.byteLength === 0 ?\n",
              "          100 :\n",
              "          Math.round((position / fileData.byteLength) * 100);\n",
              "      percent.textContent = `${percentDone}% done`;\n",
              "\n",
              "    } while (position < fileData.byteLength);\n",
              "  }\n",
              "\n",
              "  // All done.\n",
              "  yield {\n",
              "    response: {\n",
              "      action: 'complete',\n",
              "    }\n",
              "  };\n",
              "}\n",
              "\n",
              "scope.google = scope.google || {};\n",
              "scope.google.colab = scope.google.colab || {};\n",
              "scope.google.colab._files = {\n",
              "  _uploadFiles,\n",
              "  _uploadFilesContinue,\n",
              "};\n",
              "})(self);\n",
              "</script> "
            ]
          },
          "metadata": {}
        },
        {
          "output_type": "stream",
          "name": "stdout",
          "text": [
            "Saving kaggle.json to kaggle (1).json\n"
          ]
        },
        {
          "output_type": "execute_result",
          "data": {
            "text/plain": [
              "{'kaggle.json': b'{\"username\":\"karmakarabhishek5\",\"key\":\"36b4a526001d0aea0dbb0308eec30991\"}'}"
            ]
          },
          "metadata": {},
          "execution_count": 2
        }
      ]
    },
    {
      "cell_type": "code",
      "source": [
        "!pip install -q kaggle"
      ],
      "metadata": {
        "id": "cBaKCZArePkY"
      },
      "execution_count": null,
      "outputs": []
    },
    {
      "cell_type": "code",
      "source": [
        "!mkdir -p ~/.kaggle\n",
        "!cp kaggle.json ~/.kaggle/"
      ],
      "metadata": {
        "id": "yQzkQKLiu0y8"
      },
      "execution_count": null,
      "outputs": []
    },
    {
      "cell_type": "code",
      "source": [
        "!kaggle datasets download -d uciml/electric-power-consumption-data-set"
      ],
      "metadata": {
        "colab": {
          "base_uri": "https://localhost:8080/"
        },
        "id": "rFijHJ6Ku033",
        "outputId": "69aa8983-5d8d-41fa-cfa6-5643d6c7cb51"
      },
      "execution_count": null,
      "outputs": [
        {
          "output_type": "stream",
          "name": "stdout",
          "text": [
            "Warning: Your Kaggle API key is readable by other users on this system! To fix this, you can run 'chmod 600 /root/.kaggle/kaggle.json'\n",
            "electric-power-consumption-data-set.zip: Skipping, found more recently modified local copy (use --force to force download)\n"
          ]
        }
      ]
    },
    {
      "cell_type": "code",
      "source": [
        "!unzip electric-power-consumption-data-set.zip"
      ],
      "metadata": {
        "colab": {
          "base_uri": "https://localhost:8080/"
        },
        "id": "P80gKj3vu_JH",
        "outputId": "54a9e26c-4f8b-4a92-d428-b5692c683b85"
      },
      "execution_count": null,
      "outputs": [
        {
          "output_type": "stream",
          "name": "stdout",
          "text": [
            "Archive:  electric-power-consumption-data-set.zip\n",
            "replace household_power_consumption.txt? [y]es, [n]o, [A]ll, [N]one, [r]ename: "
          ]
        }
      ]
    },
    {
      "cell_type": "code",
      "source": [
        "pip install tensorflow"
      ],
      "metadata": {
        "id": "mtu7_6WDwgdt",
        "colab": {
          "base_uri": "https://localhost:8080/"
        },
        "outputId": "c4ad1aab-be57-4e69-a9c9-a424ec7441d3"
      },
      "execution_count": null,
      "outputs": [
        {
          "output_type": "stream",
          "name": "stdout",
          "text": [
            "Looking in indexes: https://pypi.org/simple, https://us-python.pkg.dev/colab-wheels/public/simple/\n",
            "Requirement already satisfied: tensorflow in /usr/local/lib/python3.7/dist-packages (2.9.2)\n",
            "Requirement already satisfied: gast<=0.4.0,>=0.2.1 in /usr/local/lib/python3.7/dist-packages (from tensorflow) (0.4.0)\n",
            "Requirement already satisfied: grpcio<2.0,>=1.24.3 in /usr/local/lib/python3.7/dist-packages (from tensorflow) (1.50.0)\n",
            "Requirement already satisfied: libclang>=13.0.0 in /usr/local/lib/python3.7/dist-packages (from tensorflow) (14.0.6)\n",
            "Requirement already satisfied: astunparse>=1.6.0 in /usr/local/lib/python3.7/dist-packages (from tensorflow) (1.6.3)\n",
            "Requirement already satisfied: typing-extensions>=3.6.6 in /usr/local/lib/python3.7/dist-packages (from tensorflow) (4.1.1)\n",
            "Requirement already satisfied: tensorflow-estimator<2.10.0,>=2.9.0rc0 in /usr/local/lib/python3.7/dist-packages (from tensorflow) (2.9.0)\n",
            "Requirement already satisfied: keras<2.10.0,>=2.9.0rc0 in /usr/local/lib/python3.7/dist-packages (from tensorflow) (2.9.0)\n",
            "Requirement already satisfied: protobuf<3.20,>=3.9.2 in /usr/local/lib/python3.7/dist-packages (from tensorflow) (3.19.6)\n",
            "Requirement already satisfied: tensorboard<2.10,>=2.9 in /usr/local/lib/python3.7/dist-packages (from tensorflow) (2.9.1)\n",
            "Requirement already satisfied: absl-py>=1.0.0 in /usr/local/lib/python3.7/dist-packages (from tensorflow) (1.3.0)\n",
            "Requirement already satisfied: wrapt>=1.11.0 in /usr/local/lib/python3.7/dist-packages (from tensorflow) (1.14.1)\n",
            "Requirement already satisfied: numpy>=1.20 in /usr/local/lib/python3.7/dist-packages (from tensorflow) (1.21.6)\n",
            "Requirement already satisfied: keras-preprocessing>=1.1.1 in /usr/local/lib/python3.7/dist-packages (from tensorflow) (1.1.2)\n",
            "Requirement already satisfied: setuptools in /usr/local/lib/python3.7/dist-packages (from tensorflow) (57.4.0)\n",
            "Requirement already satisfied: opt-einsum>=2.3.2 in /usr/local/lib/python3.7/dist-packages (from tensorflow) (3.3.0)\n",
            "Requirement already satisfied: google-pasta>=0.1.1 in /usr/local/lib/python3.7/dist-packages (from tensorflow) (0.2.0)\n",
            "Requirement already satisfied: termcolor>=1.1.0 in /usr/local/lib/python3.7/dist-packages (from tensorflow) (2.1.0)\n",
            "Requirement already satisfied: flatbuffers<2,>=1.12 in /usr/local/lib/python3.7/dist-packages (from tensorflow) (1.12)\n",
            "Requirement already satisfied: six>=1.12.0 in /usr/local/lib/python3.7/dist-packages (from tensorflow) (1.15.0)\n",
            "Requirement already satisfied: tensorflow-io-gcs-filesystem>=0.23.1 in /usr/local/lib/python3.7/dist-packages (from tensorflow) (0.27.0)\n",
            "Requirement already satisfied: packaging in /usr/local/lib/python3.7/dist-packages (from tensorflow) (21.3)\n",
            "Requirement already satisfied: h5py>=2.9.0 in /usr/local/lib/python3.7/dist-packages (from tensorflow) (3.3.0)\n",
            "Requirement already satisfied: wheel<1.0,>=0.23.0 in /usr/local/lib/python3.7/dist-packages (from astunparse>=1.6.0->tensorflow) (0.38.3)\n",
            "Requirement already satisfied: cached-property in /usr/local/lib/python3.7/dist-packages (from h5py>=2.9.0->tensorflow) (1.5.2)\n",
            "Requirement already satisfied: google-auth-oauthlib<0.5,>=0.4.1 in /usr/local/lib/python3.7/dist-packages (from tensorboard<2.10,>=2.9->tensorflow) (0.4.6)\n",
            "Requirement already satisfied: google-auth<3,>=1.6.3 in /usr/local/lib/python3.7/dist-packages (from tensorboard<2.10,>=2.9->tensorflow) (2.14.1)\n",
            "Requirement already satisfied: requests<3,>=2.21.0 in /usr/local/lib/python3.7/dist-packages (from tensorboard<2.10,>=2.9->tensorflow) (2.23.0)\n",
            "Requirement already satisfied: tensorboard-plugin-wit>=1.6.0 in /usr/local/lib/python3.7/dist-packages (from tensorboard<2.10,>=2.9->tensorflow) (1.8.1)\n",
            "Requirement already satisfied: werkzeug>=1.0.1 in /usr/local/lib/python3.7/dist-packages (from tensorboard<2.10,>=2.9->tensorflow) (1.0.1)\n",
            "Requirement already satisfied: tensorboard-data-server<0.7.0,>=0.6.0 in /usr/local/lib/python3.7/dist-packages (from tensorboard<2.10,>=2.9->tensorflow) (0.6.1)\n",
            "Requirement already satisfied: markdown>=2.6.8 in /usr/local/lib/python3.7/dist-packages (from tensorboard<2.10,>=2.9->tensorflow) (3.4.1)\n",
            "Requirement already satisfied: rsa<5,>=3.1.4 in /usr/local/lib/python3.7/dist-packages (from google-auth<3,>=1.6.3->tensorboard<2.10,>=2.9->tensorflow) (4.9)\n",
            "Requirement already satisfied: pyasn1-modules>=0.2.1 in /usr/local/lib/python3.7/dist-packages (from google-auth<3,>=1.6.3->tensorboard<2.10,>=2.9->tensorflow) (0.2.8)\n",
            "Requirement already satisfied: cachetools<6.0,>=2.0.0 in /usr/local/lib/python3.7/dist-packages (from google-auth<3,>=1.6.3->tensorboard<2.10,>=2.9->tensorflow) (5.2.0)\n",
            "Requirement already satisfied: requests-oauthlib>=0.7.0 in /usr/local/lib/python3.7/dist-packages (from google-auth-oauthlib<0.5,>=0.4.1->tensorboard<2.10,>=2.9->tensorflow) (1.3.1)\n",
            "Requirement already satisfied: importlib-metadata>=4.4 in /usr/local/lib/python3.7/dist-packages (from markdown>=2.6.8->tensorboard<2.10,>=2.9->tensorflow) (4.13.0)\n",
            "Requirement already satisfied: zipp>=0.5 in /usr/local/lib/python3.7/dist-packages (from importlib-metadata>=4.4->markdown>=2.6.8->tensorboard<2.10,>=2.9->tensorflow) (3.10.0)\n",
            "Requirement already satisfied: pyasn1<0.5.0,>=0.4.6 in /usr/local/lib/python3.7/dist-packages (from pyasn1-modules>=0.2.1->google-auth<3,>=1.6.3->tensorboard<2.10,>=2.9->tensorflow) (0.4.8)\n",
            "Requirement already satisfied: certifi>=2017.4.17 in /usr/local/lib/python3.7/dist-packages (from requests<3,>=2.21.0->tensorboard<2.10,>=2.9->tensorflow) (2022.9.24)\n",
            "Requirement already satisfied: urllib3!=1.25.0,!=1.25.1,<1.26,>=1.21.1 in /usr/local/lib/python3.7/dist-packages (from requests<3,>=2.21.0->tensorboard<2.10,>=2.9->tensorflow) (1.24.3)\n",
            "Requirement already satisfied: chardet<4,>=3.0.2 in /usr/local/lib/python3.7/dist-packages (from requests<3,>=2.21.0->tensorboard<2.10,>=2.9->tensorflow) (3.0.4)\n",
            "Requirement already satisfied: idna<3,>=2.5 in /usr/local/lib/python3.7/dist-packages (from requests<3,>=2.21.0->tensorboard<2.10,>=2.9->tensorflow) (2.10)\n",
            "Requirement already satisfied: oauthlib>=3.0.0 in /usr/local/lib/python3.7/dist-packages (from requests-oauthlib>=0.7.0->google-auth-oauthlib<0.5,>=0.4.1->tensorboard<2.10,>=2.9->tensorflow) (3.2.2)\n",
            "Requirement already satisfied: pyparsing!=3.0.5,>=2.0.2 in /usr/local/lib/python3.7/dist-packages (from packaging->tensorflow) (3.0.9)\n"
          ]
        }
      ]
    },
    {
      "cell_type": "code",
      "source": [
        "pip install elephas"
      ],
      "metadata": {
        "colab": {
          "base_uri": "https://localhost:8080/"
        },
        "id": "IIV4vBTqviGs",
        "outputId": "79ffc3ee-b79d-439e-ac9b-0c4904e4f350"
      },
      "execution_count": null,
      "outputs": [
        {
          "output_type": "stream",
          "name": "stdout",
          "text": [
            "Looking in indexes: https://pypi.org/simple, https://us-python.pkg.dev/colab-wheels/public/simple/\n",
            "Requirement already satisfied: elephas in /usr/local/lib/python3.7/dist-packages (3.4.1)\n",
            "Requirement already satisfied: pyspark<3.4 in /usr/local/lib/python3.7/dist-packages (from elephas) (3.3.1)\n",
            "Requirement already satisfied: h5py==3.3.0 in /usr/local/lib/python3.7/dist-packages (from elephas) (3.3.0)\n",
            "Requirement already satisfied: tensorflow!=2.2.*,>=2 in /usr/local/lib/python3.7/dist-packages (from elephas) (2.9.2)\n",
            "Requirement already satisfied: flask in /usr/local/lib/python3.7/dist-packages (from elephas) (1.1.4)\n",
            "Requirement already satisfied: cython in /usr/local/lib/python3.7/dist-packages (from elephas) (0.29.32)\n",
            "Requirement already satisfied: numpy>=1.14.5 in /usr/local/lib/python3.7/dist-packages (from h5py==3.3.0->elephas) (1.21.6)\n",
            "Requirement already satisfied: cached-property in /usr/local/lib/python3.7/dist-packages (from h5py==3.3.0->elephas) (1.5.2)\n",
            "Requirement already satisfied: py4j==0.10.9.5 in /usr/local/lib/python3.7/dist-packages (from pyspark<3.4->elephas) (0.10.9.5)\n",
            "Requirement already satisfied: protobuf<3.20,>=3.9.2 in /usr/local/lib/python3.7/dist-packages (from tensorflow!=2.2.*,>=2->elephas) (3.19.6)\n",
            "Requirement already satisfied: grpcio<2.0,>=1.24.3 in /usr/local/lib/python3.7/dist-packages (from tensorflow!=2.2.*,>=2->elephas) (1.50.0)\n",
            "Requirement already satisfied: flatbuffers<2,>=1.12 in /usr/local/lib/python3.7/dist-packages (from tensorflow!=2.2.*,>=2->elephas) (1.12)\n",
            "Requirement already satisfied: google-pasta>=0.1.1 in /usr/local/lib/python3.7/dist-packages (from tensorflow!=2.2.*,>=2->elephas) (0.2.0)\n",
            "Requirement already satisfied: libclang>=13.0.0 in /usr/local/lib/python3.7/dist-packages (from tensorflow!=2.2.*,>=2->elephas) (14.0.6)\n",
            "Requirement already satisfied: keras-preprocessing>=1.1.1 in /usr/local/lib/python3.7/dist-packages (from tensorflow!=2.2.*,>=2->elephas) (1.1.2)\n",
            "Requirement already satisfied: typing-extensions>=3.6.6 in /usr/local/lib/python3.7/dist-packages (from tensorflow!=2.2.*,>=2->elephas) (4.1.1)\n",
            "Requirement already satisfied: packaging in /usr/local/lib/python3.7/dist-packages (from tensorflow!=2.2.*,>=2->elephas) (21.3)\n",
            "Requirement already satisfied: tensorboard<2.10,>=2.9 in /usr/local/lib/python3.7/dist-packages (from tensorflow!=2.2.*,>=2->elephas) (2.9.1)\n",
            "Requirement already satisfied: opt-einsum>=2.3.2 in /usr/local/lib/python3.7/dist-packages (from tensorflow!=2.2.*,>=2->elephas) (3.3.0)\n",
            "Requirement already satisfied: setuptools in /usr/local/lib/python3.7/dist-packages (from tensorflow!=2.2.*,>=2->elephas) (57.4.0)\n",
            "Requirement already satisfied: tensorflow-estimator<2.10.0,>=2.9.0rc0 in /usr/local/lib/python3.7/dist-packages (from tensorflow!=2.2.*,>=2->elephas) (2.9.0)\n",
            "Requirement already satisfied: wrapt>=1.11.0 in /usr/local/lib/python3.7/dist-packages (from tensorflow!=2.2.*,>=2->elephas) (1.14.1)\n",
            "Requirement already satisfied: absl-py>=1.0.0 in /usr/local/lib/python3.7/dist-packages (from tensorflow!=2.2.*,>=2->elephas) (1.3.0)\n",
            "Requirement already satisfied: six>=1.12.0 in /usr/local/lib/python3.7/dist-packages (from tensorflow!=2.2.*,>=2->elephas) (1.15.0)\n",
            "Requirement already satisfied: termcolor>=1.1.0 in /usr/local/lib/python3.7/dist-packages (from tensorflow!=2.2.*,>=2->elephas) (2.1.0)\n",
            "Requirement already satisfied: gast<=0.4.0,>=0.2.1 in /usr/local/lib/python3.7/dist-packages (from tensorflow!=2.2.*,>=2->elephas) (0.4.0)\n",
            "Requirement already satisfied: keras<2.10.0,>=2.9.0rc0 in /usr/local/lib/python3.7/dist-packages (from tensorflow!=2.2.*,>=2->elephas) (2.9.0)\n",
            "Requirement already satisfied: astunparse>=1.6.0 in /usr/local/lib/python3.7/dist-packages (from tensorflow!=2.2.*,>=2->elephas) (1.6.3)\n",
            "Requirement already satisfied: tensorflow-io-gcs-filesystem>=0.23.1 in /usr/local/lib/python3.7/dist-packages (from tensorflow!=2.2.*,>=2->elephas) (0.27.0)\n",
            "Requirement already satisfied: wheel<1.0,>=0.23.0 in /usr/local/lib/python3.7/dist-packages (from astunparse>=1.6.0->tensorflow!=2.2.*,>=2->elephas) (0.38.3)\n",
            "Requirement already satisfied: tensorboard-data-server<0.7.0,>=0.6.0 in /usr/local/lib/python3.7/dist-packages (from tensorboard<2.10,>=2.9->tensorflow!=2.2.*,>=2->elephas) (0.6.1)\n",
            "Requirement already satisfied: tensorboard-plugin-wit>=1.6.0 in /usr/local/lib/python3.7/dist-packages (from tensorboard<2.10,>=2.9->tensorflow!=2.2.*,>=2->elephas) (1.8.1)\n",
            "Requirement already satisfied: markdown>=2.6.8 in /usr/local/lib/python3.7/dist-packages (from tensorboard<2.10,>=2.9->tensorflow!=2.2.*,>=2->elephas) (3.4.1)\n",
            "Requirement already satisfied: google-auth<3,>=1.6.3 in /usr/local/lib/python3.7/dist-packages (from tensorboard<2.10,>=2.9->tensorflow!=2.2.*,>=2->elephas) (2.14.1)\n",
            "Requirement already satisfied: werkzeug>=1.0.1 in /usr/local/lib/python3.7/dist-packages (from tensorboard<2.10,>=2.9->tensorflow!=2.2.*,>=2->elephas) (1.0.1)\n",
            "Requirement already satisfied: requests<3,>=2.21.0 in /usr/local/lib/python3.7/dist-packages (from tensorboard<2.10,>=2.9->tensorflow!=2.2.*,>=2->elephas) (2.23.0)\n",
            "Requirement already satisfied: google-auth-oauthlib<0.5,>=0.4.1 in /usr/local/lib/python3.7/dist-packages (from tensorboard<2.10,>=2.9->tensorflow!=2.2.*,>=2->elephas) (0.4.6)\n",
            "Requirement already satisfied: pyasn1-modules>=0.2.1 in /usr/local/lib/python3.7/dist-packages (from google-auth<3,>=1.6.3->tensorboard<2.10,>=2.9->tensorflow!=2.2.*,>=2->elephas) (0.2.8)\n",
            "Requirement already satisfied: rsa<5,>=3.1.4 in /usr/local/lib/python3.7/dist-packages (from google-auth<3,>=1.6.3->tensorboard<2.10,>=2.9->tensorflow!=2.2.*,>=2->elephas) (4.9)\n",
            "Requirement already satisfied: cachetools<6.0,>=2.0.0 in /usr/local/lib/python3.7/dist-packages (from google-auth<3,>=1.6.3->tensorboard<2.10,>=2.9->tensorflow!=2.2.*,>=2->elephas) (5.2.0)\n",
            "Requirement already satisfied: requests-oauthlib>=0.7.0 in /usr/local/lib/python3.7/dist-packages (from google-auth-oauthlib<0.5,>=0.4.1->tensorboard<2.10,>=2.9->tensorflow!=2.2.*,>=2->elephas) (1.3.1)\n",
            "Requirement already satisfied: importlib-metadata>=4.4 in /usr/local/lib/python3.7/dist-packages (from markdown>=2.6.8->tensorboard<2.10,>=2.9->tensorflow!=2.2.*,>=2->elephas) (4.13.0)\n",
            "Requirement already satisfied: zipp>=0.5 in /usr/local/lib/python3.7/dist-packages (from importlib-metadata>=4.4->markdown>=2.6.8->tensorboard<2.10,>=2.9->tensorflow!=2.2.*,>=2->elephas) (3.10.0)\n",
            "Requirement already satisfied: pyasn1<0.5.0,>=0.4.6 in /usr/local/lib/python3.7/dist-packages (from pyasn1-modules>=0.2.1->google-auth<3,>=1.6.3->tensorboard<2.10,>=2.9->tensorflow!=2.2.*,>=2->elephas) (0.4.8)\n",
            "Requirement already satisfied: idna<3,>=2.5 in /usr/local/lib/python3.7/dist-packages (from requests<3,>=2.21.0->tensorboard<2.10,>=2.9->tensorflow!=2.2.*,>=2->elephas) (2.10)\n",
            "Requirement already satisfied: urllib3!=1.25.0,!=1.25.1,<1.26,>=1.21.1 in /usr/local/lib/python3.7/dist-packages (from requests<3,>=2.21.0->tensorboard<2.10,>=2.9->tensorflow!=2.2.*,>=2->elephas) (1.24.3)\n",
            "Requirement already satisfied: certifi>=2017.4.17 in /usr/local/lib/python3.7/dist-packages (from requests<3,>=2.21.0->tensorboard<2.10,>=2.9->tensorflow!=2.2.*,>=2->elephas) (2022.9.24)\n",
            "Requirement already satisfied: chardet<4,>=3.0.2 in /usr/local/lib/python3.7/dist-packages (from requests<3,>=2.21.0->tensorboard<2.10,>=2.9->tensorflow!=2.2.*,>=2->elephas) (3.0.4)\n",
            "Requirement already satisfied: oauthlib>=3.0.0 in /usr/local/lib/python3.7/dist-packages (from requests-oauthlib>=0.7.0->google-auth-oauthlib<0.5,>=0.4.1->tensorboard<2.10,>=2.9->tensorflow!=2.2.*,>=2->elephas) (3.2.2)\n",
            "Requirement already satisfied: itsdangerous<2.0,>=0.24 in /usr/local/lib/python3.7/dist-packages (from flask->elephas) (1.1.0)\n",
            "Requirement already satisfied: click<8.0,>=5.1 in /usr/local/lib/python3.7/dist-packages (from flask->elephas) (7.1.2)\n",
            "Requirement already satisfied: Jinja2<3.0,>=2.10.1 in /usr/local/lib/python3.7/dist-packages (from flask->elephas) (2.11.3)\n",
            "Requirement already satisfied: MarkupSafe>=0.23 in /usr/local/lib/python3.7/dist-packages (from Jinja2<3.0,>=2.10.1->flask->elephas) (2.0.1)\n",
            "Requirement already satisfied: pyparsing!=3.0.5,>=2.0.2 in /usr/local/lib/python3.7/dist-packages (from packaging->tensorflow!=2.2.*,>=2->elephas) (3.0.9)\n"
          ]
        }
      ]
    },
    {
      "cell_type": "code",
      "source": [
        "import pandas as pd\n",
        "import seaborn as sns\n",
        "import matplotlib.pyplot as plt"
      ],
      "metadata": {
        "id": "WX3YXB9iu_Lk"
      },
      "execution_count": null,
      "outputs": []
    },
    {
      "cell_type": "code",
      "source": [
        "df = pd.read_csv('household_power_consumption.txt', sep=';', \n",
        "                 parse_dates={'dt' : ['Date', 'Time']}, infer_datetime_format=True, \n",
        "                 low_memory=False, na_values=['nan','?'], index_col='dt')"
      ],
      "metadata": {
        "id": "QfFtelV0u_Oc"
      },
      "execution_count": null,
      "outputs": []
    },
    {
      "cell_type": "code",
      "source": [
        "len(df)"
      ],
      "metadata": {
        "colab": {
          "base_uri": "https://localhost:8080/"
        },
        "id": "5QVVf3Zs7l7u",
        "outputId": "c48a87a1-f87c-471c-d9ea-6deeadaf13f7"
      },
      "execution_count": null,
      "outputs": [
        {
          "output_type": "execute_result",
          "data": {
            "text/plain": [
              "2075259"
            ]
          },
          "metadata": {},
          "execution_count": 11
        }
      ]
    },
    {
      "cell_type": "code",
      "source": [
        "import numpy as np\n",
        "for cols in df.iloc[:,2:].columns:\n",
        "    print(cols)\n",
        "    for x in [cols]:\n",
        "        q75,q25 = np.percentile(df.loc[:,x],[75,25])\n",
        "        intr_qr = q75-q25\n",
        "        \n",
        "        max1 = q75+(1.5*intr_qr)\n",
        "        min1 = q25-(1.5*intr_qr)\n",
        "        \n",
        "        df.loc[df[x] < min1,x] = np.NaN\n",
        "        df.loc[df[x] > max1,x] = np.NaN\n",
        "\n",
        "# sns.heatmap(df.isnull(), yticklabels=False, cmap='viridis')    \n",
        "\n",
        "\n",
        "\n",
        "df = df.fillna(df.mean())\n",
        "df.isnull().sum()\n",
        "\n",
        "\n",
        "df = df[['Global_active_power', 'Global_reactive_power', 'Voltage',\n",
        "       'Global_intensity', 'Sub_metering_2', 'Sub_metering_1','Sub_metering_3']]\n",
        "\n",
        "\n",
        "\n",
        "# We will frame the supervised learning problem as predicting the Global_active_power at the current time (t) \n",
        "# given the Global_active_power measurement and other features at the prior time step\n",
        "\n",
        "def series_to_supervised(data, n_in=1, n_out=1, dropnan=True):\n",
        "    n_vars = 1 if type(data) is list else data.shape[1]\n",
        "    dff = pd.DataFrame(data)\n",
        "    cols, names = list(), list()\n",
        "    for i in range(n_in, 0, -1):\n",
        "        cols.append(dff.shift(-i))\n",
        "        names += [('var%d(t-%d)' % (j+1, i)) for j in range(n_vars)]\n",
        "    for i in range(0, n_out):\n",
        "        cols.append(dff.shift(-i))\n",
        "        if i==0:\n",
        "            names += [('var%d(t)' % (j+1)) for j in range(n_vars)]\n",
        "        else:\n",
        "            names += [('var%d(t+%d)' % (j+1)) for j in range(n_vars)]        \n",
        "        agg = pd.concat(cols, axis=1)\n",
        "        agg.columns = names\n",
        "        if dropnan:\n",
        "            agg.dropna(inplace=True)\n",
        "        return agg\n",
        "\n",
        "df_resample = df.resample('h').mean() \n",
        "df_resample.shape\n",
        "\n",
        "\n",
        "from sklearn.preprocessing import MinMaxScaler\n",
        "\n",
        "values = df_resample.values\n",
        "scaler = MinMaxScaler(feature_range=(0, 1))\n",
        "scaled = scaler.fit_transform(values)\n",
        "reframed = series_to_supervised(scaled, 1, 1)\n",
        "r = list(range(df_resample.shape[1]+1, 2*df_resample.shape[1]))\n",
        "reframed.drop(reframed.columns[r], axis=1, inplace=True)\n",
        "reframed.head()\n",
        "\n",
        "\n",
        "\n",
        "\n",
        "# Data spliting into train and test data series. Only 30000 first data points are selected for traing purpose.\n",
        "values = reframed.values\n",
        "n_train_time = 30000\n",
        "train = values[:n_train_time, :]\n",
        "test = values[n_train_time:, :]\n",
        "\n",
        "# split into input and outputs\n",
        "train_x, train_y = train[:, :-1], train[:, -1]\n",
        "test_x, test_y = test[:, :-1], test[:, -1]\n",
        "\n",
        "# reshape input to be 3D [samples, timesteps, features]\n",
        "# We reshaped the input into the 3D format as expected by LSTMs, namely [samples, timesteps, features]\n",
        "train_x = train_x.reshape((train_x.shape[0], 1, train_x.shape[1]))\n",
        "test_x = test_x.reshape((test_x.shape[0], 1, test_x.shape[1]))\n"
      ],
      "metadata": {
        "colab": {
          "base_uri": "https://localhost:8080/"
        },
        "id": "3Jz0daVCu_Tg",
        "outputId": "e374f02b-453f-4000-89c6-3242291e5099"
      },
      "execution_count": null,
      "outputs": [
        {
          "output_type": "stream",
          "name": "stdout",
          "text": [
            "Voltage\n",
            "Global_intensity\n",
            "Sub_metering_1\n",
            "Sub_metering_2\n",
            "Sub_metering_3\n"
          ]
        }
      ]
    },
    {
      "cell_type": "markdown",
      "source": [
        "# Global Active Power"
      ],
      "metadata": {
        "id": "oZbkDTHR93kL"
      }
    },
    {
      "cell_type": "code",
      "source": [
        "from keras.models import Sequential\n",
        "from keras.layers import LSTM\n",
        "from keras.layers import Dropout\n",
        "from keras.layers import Dense\n",
        "\n",
        "from pyspark import SparkContext, SparkConf\n",
        "from pyspark.sql import SparkSession\n",
        "from elephas.spark_model import SparkModel\n",
        "from elephas.utils.rdd_utils import to_simple_rdd\n",
        "\n",
        "# Creating Spark context\n",
        "master_url = 'local[8]'\n",
        "conf = SparkConf().setAppName(\"IOT_LSTM_Elephas_App\")\n",
        "conf.setMaster(master_url)\n",
        "sc = SparkContext.getOrCreate(conf = conf)\n",
        "\n",
        "model1 = Sequential()\n",
        "model1.add(LSTM(100, input_shape=(train_x.shape[1], train_x.shape[2])))\n",
        "# model1.add(Dropout(0.1))\n",
        "model1.add(Dense(30))\n",
        "model1.add(Dense(1))\n",
        "model1.compile(loss='mean_squared_error', optimizer='adam')\n",
        "\n",
        "# Convert TrainX and TrainY to RDD\n",
        "rdd = to_simple_rdd(sc, train_x, train_y)\n",
        "\n",
        "# Create Spark model\n",
        "spark_model = SparkModel(model1, frequency='epoch', mode='asynchronous', num_workers=1)\n",
        "spark_model.fit(rdd, epochs=25, batch_size=70, validation_data=(test_x, test_y), verbose=2, shuffle=False)\n",
        "\n",
        "# Evaluate Spark model by evaluating the underlying model\n",
        "score = spark_model.master_network.evaluate(test_x, test_y)\n",
        "\n",
        "print('Test Loss:', score)"
      ],
      "metadata": {
        "colab": {
          "base_uri": "https://localhost:8080/"
        },
        "id": "-BRl9oGj3793",
        "outputId": "0faff6ff-8fc2-4f10-bddf-89391b1908be"
      },
      "execution_count": null,
      "outputs": [
        {
          "output_type": "stream",
          "name": "stdout",
          "text": [
            ">>> Fit model\n",
            " * Serving Flask app \"elephas.parameter.server\" (lazy loading)\n",
            " * Environment: production\n",
            "\u001b[31m   WARNING: This is a development server. Do not use it in a production deployment.\u001b[0m\n",
            "\u001b[2m   Use a production WSGI server instead.\u001b[0m\n",
            " * Debug mode: off\n"
          ]
        },
        {
          "output_type": "stream",
          "name": "stderr",
          "text": [
            "INFO:werkzeug: * Running on http://172.28.0.2:4000/ (Press CTRL+C to quit)\n"
          ]
        },
        {
          "output_type": "stream",
          "name": "stdout",
          "text": [
            ">>> Initialize workers\n",
            ">>> Distribute load\n"
          ]
        },
        {
          "output_type": "stream",
          "name": "stderr",
          "text": [
            "INFO:werkzeug:172.28.0.2 - - [16/Nov/2022 17:58:45] \"\u001b[37mGET /parameters HTTP/1.1\u001b[0m\" 200 -\n",
            "INFO:werkzeug:172.28.0.2 - - [16/Nov/2022 17:58:49] \"\u001b[37mPOST /update HTTP/1.1\u001b[0m\" 200 -\n",
            "INFO:werkzeug:172.28.0.2 - - [16/Nov/2022 17:58:49] \"\u001b[37mGET /parameters HTTP/1.1\u001b[0m\" 200 -\n",
            "INFO:werkzeug:172.28.0.2 - - [16/Nov/2022 17:58:52] \"\u001b[37mPOST /update HTTP/1.1\u001b[0m\" 200 -\n",
            "INFO:werkzeug:172.28.0.2 - - [16/Nov/2022 17:58:52] \"\u001b[37mGET /parameters HTTP/1.1\u001b[0m\" 200 -\n",
            "INFO:werkzeug:172.28.0.2 - - [16/Nov/2022 17:58:55] \"\u001b[37mPOST /update HTTP/1.1\u001b[0m\" 200 -\n",
            "INFO:werkzeug:172.28.0.2 - - [16/Nov/2022 17:58:55] \"\u001b[37mGET /parameters HTTP/1.1\u001b[0m\" 200 -\n",
            "INFO:werkzeug:172.28.0.2 - - [16/Nov/2022 17:58:57] \"\u001b[37mPOST /update HTTP/1.1\u001b[0m\" 200 -\n",
            "INFO:werkzeug:172.28.0.2 - - [16/Nov/2022 17:58:57] \"\u001b[37mGET /parameters HTTP/1.1\u001b[0m\" 200 -\n",
            "INFO:werkzeug:172.28.0.2 - - [16/Nov/2022 17:59:00] \"\u001b[37mPOST /update HTTP/1.1\u001b[0m\" 200 -\n",
            "INFO:werkzeug:172.28.0.2 - - [16/Nov/2022 17:59:00] \"\u001b[37mGET /parameters HTTP/1.1\u001b[0m\" 200 -\n",
            "INFO:werkzeug:172.28.0.2 - - [16/Nov/2022 17:59:02] \"\u001b[37mPOST /update HTTP/1.1\u001b[0m\" 200 -\n",
            "INFO:werkzeug:172.28.0.2 - - [16/Nov/2022 17:59:02] \"\u001b[37mGET /parameters HTTP/1.1\u001b[0m\" 200 -\n",
            "INFO:werkzeug:172.28.0.2 - - [16/Nov/2022 17:59:04] \"\u001b[37mPOST /update HTTP/1.1\u001b[0m\" 200 -\n",
            "INFO:werkzeug:172.28.0.2 - - [16/Nov/2022 17:59:04] \"\u001b[37mGET /parameters HTTP/1.1\u001b[0m\" 200 -\n",
            "INFO:werkzeug:172.28.0.2 - - [16/Nov/2022 17:59:06] \"\u001b[37mPOST /update HTTP/1.1\u001b[0m\" 200 -\n",
            "INFO:werkzeug:172.28.0.2 - - [16/Nov/2022 17:59:06] \"\u001b[37mGET /parameters HTTP/1.1\u001b[0m\" 200 -\n",
            "INFO:werkzeug:172.28.0.2 - - [16/Nov/2022 17:59:08] \"\u001b[37mPOST /update HTTP/1.1\u001b[0m\" 200 -\n",
            "INFO:werkzeug:172.28.0.2 - - [16/Nov/2022 17:59:08] \"\u001b[37mGET /parameters HTTP/1.1\u001b[0m\" 200 -\n",
            "INFO:werkzeug:172.28.0.2 - - [16/Nov/2022 17:59:10] \"\u001b[37mPOST /update HTTP/1.1\u001b[0m\" 200 -\n",
            "INFO:werkzeug:172.28.0.2 - - [16/Nov/2022 17:59:10] \"\u001b[37mGET /parameters HTTP/1.1\u001b[0m\" 200 -\n",
            "INFO:werkzeug:172.28.0.2 - - [16/Nov/2022 17:59:12] \"\u001b[37mPOST /update HTTP/1.1\u001b[0m\" 200 -\n",
            "INFO:werkzeug:172.28.0.2 - - [16/Nov/2022 17:59:12] \"\u001b[37mGET /parameters HTTP/1.1\u001b[0m\" 200 -\n",
            "INFO:werkzeug:172.28.0.2 - - [16/Nov/2022 17:59:15] \"\u001b[37mPOST /update HTTP/1.1\u001b[0m\" 200 -\n",
            "INFO:werkzeug:172.28.0.2 - - [16/Nov/2022 17:59:15] \"\u001b[37mGET /parameters HTTP/1.1\u001b[0m\" 200 -\n",
            "INFO:werkzeug:172.28.0.2 - - [16/Nov/2022 17:59:17] \"\u001b[37mPOST /update HTTP/1.1\u001b[0m\" 200 -\n",
            "INFO:werkzeug:172.28.0.2 - - [16/Nov/2022 17:59:17] \"\u001b[37mGET /parameters HTTP/1.1\u001b[0m\" 200 -\n",
            "INFO:werkzeug:172.28.0.2 - - [16/Nov/2022 17:59:19] \"\u001b[37mPOST /update HTTP/1.1\u001b[0m\" 200 -\n",
            "INFO:werkzeug:172.28.0.2 - - [16/Nov/2022 17:59:19] \"\u001b[37mGET /parameters HTTP/1.1\u001b[0m\" 200 -\n",
            "INFO:werkzeug:172.28.0.2 - - [16/Nov/2022 17:59:22] \"\u001b[37mPOST /update HTTP/1.1\u001b[0m\" 200 -\n",
            "INFO:werkzeug:172.28.0.2 - - [16/Nov/2022 17:59:22] \"\u001b[37mGET /parameters HTTP/1.1\u001b[0m\" 200 -\n",
            "INFO:werkzeug:172.28.0.2 - - [16/Nov/2022 17:59:23] \"\u001b[37mPOST /update HTTP/1.1\u001b[0m\" 200 -\n",
            "INFO:werkzeug:172.28.0.2 - - [16/Nov/2022 17:59:23] \"\u001b[37mGET /parameters HTTP/1.1\u001b[0m\" 200 -\n",
            "INFO:werkzeug:172.28.0.2 - - [16/Nov/2022 17:59:25] \"\u001b[37mPOST /update HTTP/1.1\u001b[0m\" 200 -\n",
            "INFO:werkzeug:172.28.0.2 - - [16/Nov/2022 17:59:25] \"\u001b[37mGET /parameters HTTP/1.1\u001b[0m\" 200 -\n",
            "INFO:werkzeug:172.28.0.2 - - [16/Nov/2022 17:59:27] \"\u001b[37mPOST /update HTTP/1.1\u001b[0m\" 200 -\n",
            "INFO:werkzeug:172.28.0.2 - - [16/Nov/2022 17:59:27] \"\u001b[37mGET /parameters HTTP/1.1\u001b[0m\" 200 -\n",
            "INFO:werkzeug:172.28.0.2 - - [16/Nov/2022 17:59:28] \"\u001b[37mPOST /update HTTP/1.1\u001b[0m\" 200 -\n",
            "INFO:werkzeug:172.28.0.2 - - [16/Nov/2022 17:59:28] \"\u001b[37mGET /parameters HTTP/1.1\u001b[0m\" 200 -\n",
            "INFO:werkzeug:172.28.0.2 - - [16/Nov/2022 17:59:30] \"\u001b[37mPOST /update HTTP/1.1\u001b[0m\" 200 -\n",
            "INFO:werkzeug:172.28.0.2 - - [16/Nov/2022 17:59:30] \"\u001b[37mGET /parameters HTTP/1.1\u001b[0m\" 200 -\n",
            "INFO:werkzeug:172.28.0.2 - - [16/Nov/2022 17:59:33] \"\u001b[37mPOST /update HTTP/1.1\u001b[0m\" 200 -\n",
            "INFO:werkzeug:172.28.0.2 - - [16/Nov/2022 17:59:33] \"\u001b[37mGET /parameters HTTP/1.1\u001b[0m\" 200 -\n",
            "INFO:werkzeug:172.28.0.2 - - [16/Nov/2022 17:59:34] \"\u001b[37mPOST /update HTTP/1.1\u001b[0m\" 200 -\n",
            "INFO:werkzeug:172.28.0.2 - - [16/Nov/2022 17:59:34] \"\u001b[37mGET /parameters HTTP/1.1\u001b[0m\" 200 -\n",
            "INFO:werkzeug:172.28.0.2 - - [16/Nov/2022 17:59:36] \"\u001b[37mPOST /update HTTP/1.1\u001b[0m\" 200 -\n",
            "INFO:werkzeug:172.28.0.2 - - [16/Nov/2022 17:59:36] \"\u001b[37mGET /parameters HTTP/1.1\u001b[0m\" 200 -\n",
            "INFO:werkzeug:172.28.0.2 - - [16/Nov/2022 17:59:39] \"\u001b[37mPOST /update HTTP/1.1\u001b[0m\" 200 -\n",
            "INFO:werkzeug:172.28.0.2 - - [16/Nov/2022 17:59:39] \"\u001b[37mGET /parameters HTTP/1.1\u001b[0m\" 200 -\n",
            "INFO:werkzeug:172.28.0.2 - - [16/Nov/2022 17:59:41] \"\u001b[37mPOST /update HTTP/1.1\u001b[0m\" 200 -\n",
            "INFO:werkzeug:172.28.0.2 - - [16/Nov/2022 17:59:41] \"\u001b[37mGET /parameters HTTP/1.1\u001b[0m\" 200 -\n"
          ]
        },
        {
          "output_type": "stream",
          "name": "stdout",
          "text": [
            ">>> Async training complete.\n",
            "144/144 [==============================] - 1s 2ms/step - loss: 0.0063\n",
            "Test Loss: 0.006256712134927511\n"
          ]
        }
      ]
    },
    {
      "cell_type": "markdown",
      "source": [
        "# **Submetering_3**"
      ],
      "metadata": {
        "id": "WJLuaopJ-R29"
      }
    },
    {
      "cell_type": "code",
      "source": [
        "df = df[['Sub_metering_3','Global_active_power', 'Global_reactive_power', 'Voltage',\n",
        "       'Global_intensity', 'Sub_metering_2', 'Sub_metering_1']]\n",
        "\n",
        "from sklearn.preprocessing import MinMaxScaler\n",
        "\n",
        "values = df_resample.values\n",
        "scaler = MinMaxScaler(feature_range=(0, 1))\n",
        "scaled = scaler.fit_transform(values)\n",
        "reframed = series_to_supervised(scaled, 1, 1)\n",
        "r = list(range(df_resample.shape[1]+1, 2*df_resample.shape[1]))\n",
        "reframed.drop(reframed.columns[r], axis=1, inplace=True)\n",
        "reframed.head()\n",
        "\n",
        "# Data spliting into train and test data series. Only 4000 first data points are selected for traing purpose.\n",
        "values = reframed.values\n",
        "n_train_time = 30000\n",
        "train = values[:n_train_time, :]\n",
        "test = values[n_train_time:, :]\n",
        "train_x, train_y = train[:, :-1], train[:, -1]\n",
        "test_x, test_y = test[:, :-1], test[:, -1]\n",
        "train_x = train_x.reshape((train_x.shape[0], 1, train_x.shape[1]))\n",
        "test_x = test_x.reshape((test_x.shape[0], 1, test_x.shape[1]))\n",
        "\n",
        "from keras.models import Sequential\n",
        "from keras.layers import LSTM\n",
        "from keras.layers import Dropout\n",
        "from keras.layers import Dense\n",
        "\n",
        "from pyspark import SparkContext, SparkConf\n",
        "from pyspark.sql import SparkSession\n",
        "from elephas.spark_model import SparkModel\n",
        "from elephas.utils.rdd_utils import to_simple_rdd\n",
        "\n",
        "# Creating Spark context\n",
        "master_url = 'local[8]'\n",
        "conf = SparkConf().setAppName(\"IOT_LSTM_Elephas_App\")\n",
        "conf.setMaster(master_url)\n",
        "sc = SparkContext.getOrCreate(conf = conf)\n",
        "\n",
        "model7 = Sequential()\n",
        "model7.add(LSTM(100, input_shape=(train_x.shape[1], train_x.shape[2])))\n",
        "model7.add(Dropout(0.1))\n",
        "model7.add(Dense(1))\n",
        "model7.compile(loss='mean_squared_error', optimizer='adam')\n",
        "\n",
        "\n",
        "# Convert TrainX and TrainY to RDD\n",
        "rdd = to_simple_rdd(sc, train_x, train_y)\n",
        "\n",
        "# Create Spark model\n",
        "spark_model = SparkModel(model7, frequency='epoch', mode='asynchronous', num_workers=1)\n",
        "spark_model.fit(rdd, epochs=40, batch_size=100, validation_data=(test_x, test_y), verbose=2, shuffle=False)\n",
        "\n",
        "# Evaluate Spark model by evaluating the underlying model\n",
        "score = spark_model.master_network.evaluate(test_x, test_y)\n",
        "\n",
        "print('Test Loss:', score)\n"
      ],
      "metadata": {
        "id": "4iOnBdkh38EE",
        "colab": {
          "base_uri": "https://localhost:8080/"
        },
        "outputId": "6cb2f459-f009-4c54-8766-6715e031063e"
      },
      "execution_count": null,
      "outputs": [
        {
          "output_type": "stream",
          "name": "stdout",
          "text": [
            ">>> Fit model\n",
            " * Serving Flask app \"elephas.parameter.server\" (lazy loading)\n",
            " * Environment: production\n",
            "\u001b[31m   WARNING: This is a development server. Do not use it in a production deployment.\u001b[0m\n",
            "\u001b[2m   Use a production WSGI server instead.\u001b[0m\n",
            " * Debug mode: off\n"
          ]
        },
        {
          "output_type": "stream",
          "name": "stderr",
          "text": [
            "INFO:werkzeug: * Running on http://172.28.0.2:4000/ (Press CTRL+C to quit)\n"
          ]
        },
        {
          "output_type": "stream",
          "name": "stdout",
          "text": [
            ">>> Initialize workers\n",
            ">>> Distribute load\n"
          ]
        },
        {
          "output_type": "stream",
          "name": "stderr",
          "text": [
            "INFO:werkzeug:172.28.0.2 - - [16/Nov/2022 17:59:49] \"\u001b[37mGET /parameters HTTP/1.1\u001b[0m\" 200 -\n",
            "INFO:werkzeug:172.28.0.2 - - [16/Nov/2022 17:59:52] \"\u001b[37mPOST /update HTTP/1.1\u001b[0m\" 200 -\n",
            "INFO:werkzeug:172.28.0.2 - - [16/Nov/2022 17:59:52] \"\u001b[37mGET /parameters HTTP/1.1\u001b[0m\" 200 -\n",
            "INFO:werkzeug:172.28.0.2 - - [16/Nov/2022 17:59:53] \"\u001b[37mPOST /update HTTP/1.1\u001b[0m\" 200 -\n",
            "INFO:werkzeug:172.28.0.2 - - [16/Nov/2022 17:59:53] \"\u001b[37mGET /parameters HTTP/1.1\u001b[0m\" 200 -\n",
            "INFO:werkzeug:172.28.0.2 - - [16/Nov/2022 17:59:54] \"\u001b[37mPOST /update HTTP/1.1\u001b[0m\" 200 -\n",
            "INFO:werkzeug:172.28.0.2 - - [16/Nov/2022 17:59:54] \"\u001b[37mGET /parameters HTTP/1.1\u001b[0m\" 200 -\n",
            "INFO:werkzeug:172.28.0.2 - - [16/Nov/2022 17:59:56] \"\u001b[37mPOST /update HTTP/1.1\u001b[0m\" 200 -\n",
            "INFO:werkzeug:172.28.0.2 - - [16/Nov/2022 17:59:56] \"\u001b[37mGET /parameters HTTP/1.1\u001b[0m\" 200 -\n",
            "INFO:werkzeug:172.28.0.2 - - [16/Nov/2022 17:59:57] \"\u001b[37mPOST /update HTTP/1.1\u001b[0m\" 200 -\n",
            "INFO:werkzeug:172.28.0.2 - - [16/Nov/2022 17:59:57] \"\u001b[37mGET /parameters HTTP/1.1\u001b[0m\" 200 -\n",
            "INFO:werkzeug:172.28.0.2 - - [16/Nov/2022 17:59:58] \"\u001b[37mPOST /update HTTP/1.1\u001b[0m\" 200 -\n",
            "INFO:werkzeug:172.28.0.2 - - [16/Nov/2022 17:59:58] \"\u001b[37mGET /parameters HTTP/1.1\u001b[0m\" 200 -\n",
            "INFO:werkzeug:172.28.0.2 - - [16/Nov/2022 18:00:00] \"\u001b[37mPOST /update HTTP/1.1\u001b[0m\" 200 -\n",
            "INFO:werkzeug:172.28.0.2 - - [16/Nov/2022 18:00:00] \"\u001b[37mGET /parameters HTTP/1.1\u001b[0m\" 200 -\n",
            "INFO:werkzeug:172.28.0.2 - - [16/Nov/2022 18:00:01] \"\u001b[37mPOST /update HTTP/1.1\u001b[0m\" 200 -\n",
            "INFO:werkzeug:172.28.0.2 - - [16/Nov/2022 18:00:01] \"\u001b[37mGET /parameters HTTP/1.1\u001b[0m\" 200 -\n",
            "INFO:werkzeug:172.28.0.2 - - [16/Nov/2022 18:00:02] \"\u001b[37mPOST /update HTTP/1.1\u001b[0m\" 200 -\n",
            "INFO:werkzeug:172.28.0.2 - - [16/Nov/2022 18:00:02] \"\u001b[37mGET /parameters HTTP/1.1\u001b[0m\" 200 -\n",
            "INFO:werkzeug:172.28.0.2 - - [16/Nov/2022 18:00:03] \"\u001b[37mPOST /update HTTP/1.1\u001b[0m\" 200 -\n",
            "INFO:werkzeug:172.28.0.2 - - [16/Nov/2022 18:00:03] \"\u001b[37mGET /parameters HTTP/1.1\u001b[0m\" 200 -\n",
            "INFO:werkzeug:172.28.0.2 - - [16/Nov/2022 18:00:05] \"\u001b[37mPOST /update HTTP/1.1\u001b[0m\" 200 -\n",
            "INFO:werkzeug:172.28.0.2 - - [16/Nov/2022 18:00:05] \"\u001b[37mGET /parameters HTTP/1.1\u001b[0m\" 200 -\n",
            "INFO:werkzeug:172.28.0.2 - - [16/Nov/2022 18:00:06] \"\u001b[37mPOST /update HTTP/1.1\u001b[0m\" 200 -\n",
            "INFO:werkzeug:172.28.0.2 - - [16/Nov/2022 18:00:06] \"\u001b[37mGET /parameters HTTP/1.1\u001b[0m\" 200 -\n",
            "INFO:werkzeug:172.28.0.2 - - [16/Nov/2022 18:00:07] \"\u001b[37mPOST /update HTTP/1.1\u001b[0m\" 200 -\n",
            "INFO:werkzeug:172.28.0.2 - - [16/Nov/2022 18:00:07] \"\u001b[37mGET /parameters HTTP/1.1\u001b[0m\" 200 -\n",
            "INFO:werkzeug:172.28.0.2 - - [16/Nov/2022 18:00:08] \"\u001b[37mPOST /update HTTP/1.1\u001b[0m\" 200 -\n",
            "INFO:werkzeug:172.28.0.2 - - [16/Nov/2022 18:00:08] \"\u001b[37mGET /parameters HTTP/1.1\u001b[0m\" 200 -\n",
            "INFO:werkzeug:172.28.0.2 - - [16/Nov/2022 18:00:10] \"\u001b[37mPOST /update HTTP/1.1\u001b[0m\" 200 -\n",
            "INFO:werkzeug:172.28.0.2 - - [16/Nov/2022 18:00:10] \"\u001b[37mGET /parameters HTTP/1.1\u001b[0m\" 200 -\n",
            "INFO:werkzeug:172.28.0.2 - - [16/Nov/2022 18:00:11] \"\u001b[37mPOST /update HTTP/1.1\u001b[0m\" 200 -\n",
            "INFO:werkzeug:172.28.0.2 - - [16/Nov/2022 18:00:11] \"\u001b[37mGET /parameters HTTP/1.1\u001b[0m\" 200 -\n",
            "INFO:werkzeug:172.28.0.2 - - [16/Nov/2022 18:00:12] \"\u001b[37mPOST /update HTTP/1.1\u001b[0m\" 200 -\n",
            "INFO:werkzeug:172.28.0.2 - - [16/Nov/2022 18:00:12] \"\u001b[37mGET /parameters HTTP/1.1\u001b[0m\" 200 -\n",
            "INFO:werkzeug:172.28.0.2 - - [16/Nov/2022 18:00:14] \"\u001b[37mPOST /update HTTP/1.1\u001b[0m\" 200 -\n",
            "INFO:werkzeug:172.28.0.2 - - [16/Nov/2022 18:00:14] \"\u001b[37mGET /parameters HTTP/1.1\u001b[0m\" 200 -\n",
            "INFO:werkzeug:172.28.0.2 - - [16/Nov/2022 18:00:15] \"\u001b[37mPOST /update HTTP/1.1\u001b[0m\" 200 -\n",
            "INFO:werkzeug:172.28.0.2 - - [16/Nov/2022 18:00:15] \"\u001b[37mGET /parameters HTTP/1.1\u001b[0m\" 200 -\n",
            "INFO:werkzeug:172.28.0.2 - - [16/Nov/2022 18:00:16] \"\u001b[37mPOST /update HTTP/1.1\u001b[0m\" 200 -\n",
            "INFO:werkzeug:172.28.0.2 - - [16/Nov/2022 18:00:17] \"\u001b[37mGET /parameters HTTP/1.1\u001b[0m\" 200 -\n",
            "INFO:werkzeug:172.28.0.2 - - [16/Nov/2022 18:00:18] \"\u001b[37mPOST /update HTTP/1.1\u001b[0m\" 200 -\n",
            "INFO:werkzeug:172.28.0.2 - - [16/Nov/2022 18:00:18] \"\u001b[37mGET /parameters HTTP/1.1\u001b[0m\" 200 -\n",
            "INFO:werkzeug:172.28.0.2 - - [16/Nov/2022 18:00:19] \"\u001b[37mPOST /update HTTP/1.1\u001b[0m\" 200 -\n",
            "INFO:werkzeug:172.28.0.2 - - [16/Nov/2022 18:00:19] \"\u001b[37mGET /parameters HTTP/1.1\u001b[0m\" 200 -\n",
            "INFO:werkzeug:172.28.0.2 - - [16/Nov/2022 18:00:20] \"\u001b[37mPOST /update HTTP/1.1\u001b[0m\" 200 -\n",
            "INFO:werkzeug:172.28.0.2 - - [16/Nov/2022 18:00:20] \"\u001b[37mGET /parameters HTTP/1.1\u001b[0m\" 200 -\n",
            "INFO:werkzeug:172.28.0.2 - - [16/Nov/2022 18:00:22] \"\u001b[37mPOST /update HTTP/1.1\u001b[0m\" 200 -\n",
            "INFO:werkzeug:172.28.0.2 - - [16/Nov/2022 18:00:22] \"\u001b[37mGET /parameters HTTP/1.1\u001b[0m\" 200 -\n",
            "INFO:werkzeug:172.28.0.2 - - [16/Nov/2022 18:00:23] \"\u001b[37mPOST /update HTTP/1.1\u001b[0m\" 200 -\n",
            "INFO:werkzeug:172.28.0.2 - - [16/Nov/2022 18:00:23] \"\u001b[37mGET /parameters HTTP/1.1\u001b[0m\" 200 -\n",
            "INFO:werkzeug:172.28.0.2 - - [16/Nov/2022 18:00:24] \"\u001b[37mPOST /update HTTP/1.1\u001b[0m\" 200 -\n",
            "INFO:werkzeug:172.28.0.2 - - [16/Nov/2022 18:00:24] \"\u001b[37mGET /parameters HTTP/1.1\u001b[0m\" 200 -\n",
            "INFO:werkzeug:172.28.0.2 - - [16/Nov/2022 18:00:25] \"\u001b[37mPOST /update HTTP/1.1\u001b[0m\" 200 -\n",
            "INFO:werkzeug:172.28.0.2 - - [16/Nov/2022 18:00:25] \"\u001b[37mGET /parameters HTTP/1.1\u001b[0m\" 200 -\n",
            "INFO:werkzeug:172.28.0.2 - - [16/Nov/2022 18:00:27] \"\u001b[37mPOST /update HTTP/1.1\u001b[0m\" 200 -\n",
            "INFO:werkzeug:172.28.0.2 - - [16/Nov/2022 18:00:27] \"\u001b[37mGET /parameters HTTP/1.1\u001b[0m\" 200 -\n",
            "INFO:werkzeug:172.28.0.2 - - [16/Nov/2022 18:00:28] \"\u001b[37mPOST /update HTTP/1.1\u001b[0m\" 200 -\n",
            "INFO:werkzeug:172.28.0.2 - - [16/Nov/2022 18:00:28] \"\u001b[37mGET /parameters HTTP/1.1\u001b[0m\" 200 -\n",
            "INFO:werkzeug:172.28.0.2 - - [16/Nov/2022 18:00:29] \"\u001b[37mPOST /update HTTP/1.1\u001b[0m\" 200 -\n",
            "INFO:werkzeug:172.28.0.2 - - [16/Nov/2022 18:00:29] \"\u001b[37mGET /parameters HTTP/1.1\u001b[0m\" 200 -\n",
            "INFO:werkzeug:172.28.0.2 - - [16/Nov/2022 18:00:31] \"\u001b[37mPOST /update HTTP/1.1\u001b[0m\" 200 -\n",
            "INFO:werkzeug:172.28.0.2 - - [16/Nov/2022 18:00:31] \"\u001b[37mGET /parameters HTTP/1.1\u001b[0m\" 200 -\n",
            "INFO:werkzeug:172.28.0.2 - - [16/Nov/2022 18:00:32] \"\u001b[37mPOST /update HTTP/1.1\u001b[0m\" 200 -\n",
            "INFO:werkzeug:172.28.0.2 - - [16/Nov/2022 18:00:32] \"\u001b[37mGET /parameters HTTP/1.1\u001b[0m\" 200 -\n",
            "INFO:werkzeug:172.28.0.2 - - [16/Nov/2022 18:00:33] \"\u001b[37mPOST /update HTTP/1.1\u001b[0m\" 200 -\n",
            "INFO:werkzeug:172.28.0.2 - - [16/Nov/2022 18:00:33] \"\u001b[37mGET /parameters HTTP/1.1\u001b[0m\" 200 -\n",
            "INFO:werkzeug:172.28.0.2 - - [16/Nov/2022 18:00:35] \"\u001b[37mPOST /update HTTP/1.1\u001b[0m\" 200 -\n",
            "INFO:werkzeug:172.28.0.2 - - [16/Nov/2022 18:00:35] \"\u001b[37mGET /parameters HTTP/1.1\u001b[0m\" 200 -\n",
            "INFO:werkzeug:172.28.0.2 - - [16/Nov/2022 18:00:36] \"\u001b[37mPOST /update HTTP/1.1\u001b[0m\" 200 -\n",
            "INFO:werkzeug:172.28.0.2 - - [16/Nov/2022 18:00:36] \"\u001b[37mGET /parameters HTTP/1.1\u001b[0m\" 200 -\n",
            "INFO:werkzeug:172.28.0.2 - - [16/Nov/2022 18:00:37] \"\u001b[37mPOST /update HTTP/1.1\u001b[0m\" 200 -\n",
            "INFO:werkzeug:172.28.0.2 - - [16/Nov/2022 18:00:37] \"\u001b[37mGET /parameters HTTP/1.1\u001b[0m\" 200 -\n",
            "INFO:werkzeug:172.28.0.2 - - [16/Nov/2022 18:00:38] \"\u001b[37mPOST /update HTTP/1.1\u001b[0m\" 200 -\n",
            "INFO:werkzeug:172.28.0.2 - - [16/Nov/2022 18:00:38] \"\u001b[37mGET /parameters HTTP/1.1\u001b[0m\" 200 -\n",
            "INFO:werkzeug:172.28.0.2 - - [16/Nov/2022 18:00:40] \"\u001b[37mPOST /update HTTP/1.1\u001b[0m\" 200 -\n",
            "INFO:werkzeug:172.28.0.2 - - [16/Nov/2022 18:00:40] \"\u001b[37mGET /parameters HTTP/1.1\u001b[0m\" 200 -\n",
            "INFO:werkzeug:172.28.0.2 - - [16/Nov/2022 18:00:41] \"\u001b[37mPOST /update HTTP/1.1\u001b[0m\" 200 -\n",
            "INFO:werkzeug:172.28.0.2 - - [16/Nov/2022 18:00:41] \"\u001b[37mGET /parameters HTTP/1.1\u001b[0m\" 200 -\n",
            "INFO:werkzeug:172.28.0.2 - - [16/Nov/2022 18:00:42] \"\u001b[37mPOST /update HTTP/1.1\u001b[0m\" 200 -\n",
            "INFO:werkzeug:172.28.0.2 - - [16/Nov/2022 18:00:42] \"\u001b[37mGET /parameters HTTP/1.1\u001b[0m\" 200 -\n"
          ]
        },
        {
          "output_type": "stream",
          "name": "stdout",
          "text": [
            ">>> Async training complete.\n",
            "144/144 [==============================] - 1s 2ms/step - loss: 0.0063\n",
            "Test Loss: 0.006322259549051523\n"
          ]
        }
      ]
    },
    {
      "cell_type": "markdown",
      "source": [
        "# **Global Reactive Power**"
      ],
      "metadata": {
        "id": "mjp2fik_---m"
      }
    },
    {
      "cell_type": "code",
      "source": [
        "df = pd.read_csv('household_power_consumption.txt', sep=';', \n",
        "                 parse_dates={'dt' : ['Date', 'Time']}, infer_datetime_format=True, \n",
        "                 low_memory=False, na_values=['nan','?'], index_col='dt')\n",
        "\n",
        "# sns.heatmap(df.isnull(), yticklabels=False, cmap='viridis')\n",
        "\n",
        "len(df)\n",
        "\n",
        "import numpy as np\n",
        "for cols in df.iloc[:,2:].columns:\n",
        "    print(cols)\n",
        "    for x in [cols]:\n",
        "        q75,q25 = np.percentile(df.loc[:,x],[75,25])\n",
        "        intr_qr = q75-q25\n",
        "        \n",
        "        max1 = q75+(1.5*intr_qr)\n",
        "        min1 = q25-(1.5*intr_qr)\n",
        "        \n",
        "        df.loc[df[x] < min1,x] = np.NaN\n",
        "        df.loc[df[x] > max1,x] = np.NaN\n",
        "\n",
        "# sns.heatmap(df.isnull(), yticklabels=False, cmap='viridis')    \n",
        "\n",
        "\n",
        "\n",
        "df = df.fillna(df.mean())\n",
        "df.isnull().sum()\n",
        "\n",
        "\n",
        "\n",
        "df = df[['Global_reactive_power', 'Sub_metering_3','Global_active_power',  'Voltage',\n",
        "       'Global_intensity', 'Sub_metering_2', 'Sub_metering_1']]\n",
        "\n",
        "df_resample = df.resample('h').mean() \n",
        "df_resample.shape \n",
        "\n",
        "from sklearn.preprocessing import MinMaxScaler\n",
        "\n",
        "# Scalarization\n",
        "values = df_resample.values\n",
        "scaler = MinMaxScaler(feature_range=(0, 1))\n",
        "scaled = scaler.fit_transform(values)\n",
        "reframed = series_to_supervised(scaled, 1, 1)\n",
        "r = list(range(df_resample.shape[1]+1, 2*df_resample.shape[1]))\n",
        "reframed.drop(reframed.columns[r], axis=1, inplace=True)\n",
        "reframed.head()\n",
        "\n",
        "# Data spliting into train and test data series. Only 4000 first data points are selected for traing purpose.\n",
        "values = reframed.values\n",
        "n_train_time = 30000\n",
        "train = values[:n_train_time, :]\n",
        "test = values[n_train_time:, :]\n",
        "train_x, train_y = train[:, :-1], train[:, -1]\n",
        "test_x, test_y = test[:, :-1], test[:, -1]\n",
        "train_x = train_x.reshape((train_x.shape[0], 1, train_x.shape[1]))\n",
        "test_x = test_x.reshape((test_x.shape[0], 1, test_x.shape[1]))\n",
        "\n",
        "\n",
        "from keras.models import Sequential\n",
        "from keras.layers import LSTM\n",
        "from keras.layers import Dropout\n",
        "from keras.layers import Dense\n",
        "\n",
        "from pyspark import SparkContext, SparkConf\n",
        "from pyspark.sql import SparkSession\n",
        "from elephas.spark_model import SparkModel\n",
        "from elephas.utils.rdd_utils import to_simple_rdd\n",
        "\n",
        "\n",
        "model2 = Sequential()\n",
        "model2.add(LSTM(100, input_shape=(train_x.shape[1], train_x.shape[2])))\n",
        "# model2.add(Dropout(0.1))\n",
        "model2.add(Dense(30))\n",
        "model2.add(Dense(1))\n",
        "model2.compile(loss='mean_squared_error', optimizer='adam')\n",
        "\n",
        "# Convert TrainX and TrainY to RDD\n",
        "rdd = to_simple_rdd(sc, train_x, train_y)\n",
        "\n",
        "# Create Spark model\n",
        "spark_model = SparkModel(model2, frequency='epoch', mode='asynchronous', num_workers=1)\n",
        "spark_model.fit(rdd, epochs=20, batch_size=100, validation_data=(test_x, test_y), verbose=2, shuffle=False)\n",
        "\n",
        "# Evaluate Spark model by evaluating the underlying model\n",
        "score = spark_model.master_network.evaluate(test_x, test_y)\n",
        "print('Test Loss:', score)\n"
      ],
      "metadata": {
        "id": "mEefqbYg38G8",
        "colab": {
          "base_uri": "https://localhost:8080/"
        },
        "outputId": "7fb9ebfe-575f-4055-e57c-00ecfa4f5332"
      },
      "execution_count": null,
      "outputs": [
        {
          "output_type": "stream",
          "name": "stdout",
          "text": [
            "Voltage\n",
            "Global_intensity\n",
            "Sub_metering_1\n",
            "Sub_metering_2\n",
            "Sub_metering_3\n",
            ">>> Fit model\n",
            " * Serving Flask app \"elephas.parameter.server\" (lazy loading)\n",
            " * Environment: production\n",
            "\u001b[31m   WARNING: This is a development server. Do not use it in a production deployment.\u001b[0m\n",
            "\u001b[2m   Use a production WSGI server instead.\u001b[0m\n",
            " * Debug mode: off\n"
          ]
        },
        {
          "output_type": "stream",
          "name": "stderr",
          "text": [
            "INFO:werkzeug: * Running on http://172.28.0.2:4000/ (Press CTRL+C to quit)\n"
          ]
        },
        {
          "output_type": "stream",
          "name": "stdout",
          "text": [
            ">>> Initialize workers\n",
            ">>> Distribute load\n"
          ]
        },
        {
          "output_type": "stream",
          "name": "stderr",
          "text": [
            "INFO:werkzeug:172.28.0.2 - - [16/Nov/2022 18:01:00] \"\u001b[37mGET /parameters HTTP/1.1\u001b[0m\" 200 -\n",
            "INFO:werkzeug:172.28.0.2 - - [16/Nov/2022 18:01:03] \"\u001b[37mPOST /update HTTP/1.1\u001b[0m\" 200 -\n",
            "INFO:werkzeug:172.28.0.2 - - [16/Nov/2022 18:01:03] \"\u001b[37mGET /parameters HTTP/1.1\u001b[0m\" 200 -\n",
            "INFO:werkzeug:172.28.0.2 - - [16/Nov/2022 18:01:05] \"\u001b[37mPOST /update HTTP/1.1\u001b[0m\" 200 -\n",
            "INFO:werkzeug:172.28.0.2 - - [16/Nov/2022 18:01:05] \"\u001b[37mGET /parameters HTTP/1.1\u001b[0m\" 200 -\n",
            "INFO:werkzeug:172.28.0.2 - - [16/Nov/2022 18:01:06] \"\u001b[37mPOST /update HTTP/1.1\u001b[0m\" 200 -\n",
            "INFO:werkzeug:172.28.0.2 - - [16/Nov/2022 18:01:06] \"\u001b[37mGET /parameters HTTP/1.1\u001b[0m\" 200 -\n",
            "INFO:werkzeug:172.28.0.2 - - [16/Nov/2022 18:01:07] \"\u001b[37mPOST /update HTTP/1.1\u001b[0m\" 200 -\n",
            "INFO:werkzeug:172.28.0.2 - - [16/Nov/2022 18:01:07] \"\u001b[37mGET /parameters HTTP/1.1\u001b[0m\" 200 -\n",
            "INFO:werkzeug:172.28.0.2 - - [16/Nov/2022 18:01:09] \"\u001b[37mPOST /update HTTP/1.1\u001b[0m\" 200 -\n",
            "INFO:werkzeug:172.28.0.2 - - [16/Nov/2022 18:01:09] \"\u001b[37mGET /parameters HTTP/1.1\u001b[0m\" 200 -\n",
            "INFO:werkzeug:172.28.0.2 - - [16/Nov/2022 18:01:10] \"\u001b[37mPOST /update HTTP/1.1\u001b[0m\" 200 -\n",
            "INFO:werkzeug:172.28.0.2 - - [16/Nov/2022 18:01:10] \"\u001b[37mGET /parameters HTTP/1.1\u001b[0m\" 200 -\n",
            "INFO:werkzeug:172.28.0.2 - - [16/Nov/2022 18:01:11] \"\u001b[37mPOST /update HTTP/1.1\u001b[0m\" 200 -\n",
            "INFO:werkzeug:172.28.0.2 - - [16/Nov/2022 18:01:11] \"\u001b[37mGET /parameters HTTP/1.1\u001b[0m\" 200 -\n",
            "INFO:werkzeug:172.28.0.2 - - [16/Nov/2022 18:01:13] \"\u001b[37mPOST /update HTTP/1.1\u001b[0m\" 200 -\n",
            "INFO:werkzeug:172.28.0.2 - - [16/Nov/2022 18:01:13] \"\u001b[37mGET /parameters HTTP/1.1\u001b[0m\" 200 -\n",
            "INFO:werkzeug:172.28.0.2 - - [16/Nov/2022 18:01:14] \"\u001b[37mPOST /update HTTP/1.1\u001b[0m\" 200 -\n",
            "INFO:werkzeug:172.28.0.2 - - [16/Nov/2022 18:01:14] \"\u001b[37mGET /parameters HTTP/1.1\u001b[0m\" 200 -\n",
            "INFO:werkzeug:172.28.0.2 - - [16/Nov/2022 18:01:15] \"\u001b[37mPOST /update HTTP/1.1\u001b[0m\" 200 -\n",
            "INFO:werkzeug:172.28.0.2 - - [16/Nov/2022 18:01:15] \"\u001b[37mGET /parameters HTTP/1.1\u001b[0m\" 200 -\n",
            "INFO:werkzeug:172.28.0.2 - - [16/Nov/2022 18:01:16] \"\u001b[37mPOST /update HTTP/1.1\u001b[0m\" 200 -\n",
            "INFO:werkzeug:172.28.0.2 - - [16/Nov/2022 18:01:16] \"\u001b[37mGET /parameters HTTP/1.1\u001b[0m\" 200 -\n",
            "INFO:werkzeug:172.28.0.2 - - [16/Nov/2022 18:01:18] \"\u001b[37mPOST /update HTTP/1.1\u001b[0m\" 200 -\n",
            "INFO:werkzeug:172.28.0.2 - - [16/Nov/2022 18:01:18] \"\u001b[37mGET /parameters HTTP/1.1\u001b[0m\" 200 -\n",
            "INFO:werkzeug:172.28.0.2 - - [16/Nov/2022 18:01:19] \"\u001b[37mPOST /update HTTP/1.1\u001b[0m\" 200 -\n",
            "INFO:werkzeug:172.28.0.2 - - [16/Nov/2022 18:01:19] \"\u001b[37mGET /parameters HTTP/1.1\u001b[0m\" 200 -\n",
            "INFO:werkzeug:172.28.0.2 - - [16/Nov/2022 18:01:20] \"\u001b[37mPOST /update HTTP/1.1\u001b[0m\" 200 -\n",
            "INFO:werkzeug:172.28.0.2 - - [16/Nov/2022 18:01:20] \"\u001b[37mGET /parameters HTTP/1.1\u001b[0m\" 200 -\n",
            "INFO:werkzeug:172.28.0.2 - - [16/Nov/2022 18:01:22] \"\u001b[37mPOST /update HTTP/1.1\u001b[0m\" 200 -\n",
            "INFO:werkzeug:172.28.0.2 - - [16/Nov/2022 18:01:22] \"\u001b[37mGET /parameters HTTP/1.1\u001b[0m\" 200 -\n",
            "INFO:werkzeug:172.28.0.2 - - [16/Nov/2022 18:01:23] \"\u001b[37mPOST /update HTTP/1.1\u001b[0m\" 200 -\n",
            "INFO:werkzeug:172.28.0.2 - - [16/Nov/2022 18:01:23] \"\u001b[37mGET /parameters HTTP/1.1\u001b[0m\" 200 -\n",
            "INFO:werkzeug:172.28.0.2 - - [16/Nov/2022 18:01:24] \"\u001b[37mPOST /update HTTP/1.1\u001b[0m\" 200 -\n",
            "INFO:werkzeug:172.28.0.2 - - [16/Nov/2022 18:01:24] \"\u001b[37mGET /parameters HTTP/1.1\u001b[0m\" 200 -\n",
            "INFO:werkzeug:172.28.0.2 - - [16/Nov/2022 18:01:26] \"\u001b[37mPOST /update HTTP/1.1\u001b[0m\" 200 -\n",
            "INFO:werkzeug:172.28.0.2 - - [16/Nov/2022 18:01:26] \"\u001b[37mGET /parameters HTTP/1.1\u001b[0m\" 200 -\n",
            "INFO:werkzeug:172.28.0.2 - - [16/Nov/2022 18:01:27] \"\u001b[37mPOST /update HTTP/1.1\u001b[0m\" 200 -\n",
            "INFO:werkzeug:172.28.0.2 - - [16/Nov/2022 18:01:27] \"\u001b[37mGET /parameters HTTP/1.1\u001b[0m\" 200 -\n",
            "INFO:werkzeug:172.28.0.2 - - [16/Nov/2022 18:01:28] \"\u001b[37mPOST /update HTTP/1.1\u001b[0m\" 200 -\n",
            "INFO:werkzeug:172.28.0.2 - - [16/Nov/2022 18:01:28] \"\u001b[37mGET /parameters HTTP/1.1\u001b[0m\" 200 -\n"
          ]
        },
        {
          "output_type": "stream",
          "name": "stdout",
          "text": [
            ">>> Async training complete.\n",
            "144/144 [==============================] - 1s 2ms/step - loss: 0.0054\n",
            "Test Loss: 0.005359277594834566\n"
          ]
        }
      ]
    },
    {
      "cell_type": "markdown",
      "source": [
        "# **Predict Voltage**"
      ],
      "metadata": {
        "id": "adMEeikL_spF"
      }
    },
    {
      "cell_type": "code",
      "source": [
        "df = df[['Voltage', 'Global_active_power',  'Global_reactive_power', 'Global_intensity', 'Sub_metering_2', 'Sub_metering_1','Sub_metering_3']]\n",
        "\n",
        "df_resample = df.resample('h').mean() \n",
        "df_resample.shape \n",
        "\n",
        "from sklearn.preprocessing import MinMaxScaler\n",
        "\n",
        "values = df_resample.values\n",
        "scaler = MinMaxScaler(feature_range=(0, 1))\n",
        "scaled = scaler.fit_transform(values)\n",
        "reframed = series_to_supervised(scaled, 1, 1)\n",
        "r = list(range(df_resample.shape[1]+1, 2*df_resample.shape[1]))\n",
        "reframed.drop(reframed.columns[r], axis=1, inplace=True)\n",
        "reframed.head()\n",
        "\n",
        "# Data spliting into train and test data series. Only 4000 first data points are selected for traing purpose.\n",
        "values = reframed.values\n",
        "n_train_time = 30000\n",
        "train = values[:n_train_time, :]\n",
        "test = values[n_train_time:, :]\n",
        "train_x, train_y = train[:, :-1], train[:, -1]\n",
        "test_x, test_y = test[:, :-1], test[:, -1]\n",
        "train_x = train_x.reshape((train_x.shape[0], 1, train_x.shape[1]))\n",
        "test_x = test_x.reshape((test_x.shape[0], 1, test_x.shape[1]))\n",
        "\n",
        "from keras.models import Sequential\n",
        "from keras.layers import LSTM\n",
        "from keras.layers import Dropout\n",
        "from keras.layers import Dense\n",
        "\n",
        "from pyspark import SparkContext, SparkConf\n",
        "from pyspark.sql import SparkSession\n",
        "from elephas.spark_model import SparkModel\n",
        "from elephas.utils.rdd_utils import to_simple_rdd\n",
        "\n",
        "model3 = Sequential()\n",
        "model3.add(LSTM(100, input_shape=(train_x.shape[1], train_x.shape[2])))\n",
        "# model3.add(Dropout(0.1))\n",
        "model3.add(Dense(1))\n",
        "model3.compile(loss='mean_squared_error', optimizer='adam')\n",
        "\n",
        "# Convert TrainX and TrainY to RDD\n",
        "rdd = to_simple_rdd(sc, train_x, train_y)\n",
        "\n",
        "# Create Spark model\n",
        "spark_model = SparkModel(model3, frequency='epoch', mode='asynchronous', num_workers=1)\n",
        "spark_model.fit(rdd, epochs=13, batch_size=100, validation_data=(test_x, test_y), verbose=2, shuffle=False)\n",
        "\n",
        "# Evaluate Spark model by evaluating the underlying model\n",
        "score = spark_model.master_network.evaluate(test_x, test_y)\n",
        "print('Test Loss:', score)"
      ],
      "metadata": {
        "id": "c_6DZXvH38Jo",
        "colab": {
          "base_uri": "https://localhost:8080/"
        },
        "outputId": "d173e5e7-488d-4599-a674-0365ce8c7193"
      },
      "execution_count": null,
      "outputs": [
        {
          "output_type": "stream",
          "name": "stdout",
          "text": [
            ">>> Fit model\n",
            " * Serving Flask app \"elephas.parameter.server\" (lazy loading)\n",
            " * Environment: production\n",
            "\u001b[31m   WARNING: This is a development server. Do not use it in a production deployment.\u001b[0m\n",
            "\u001b[2m   Use a production WSGI server instead.\u001b[0m\n",
            " * Debug mode: off\n",
            ">>> Initialize workers\n",
            ">>> Distribute load\n"
          ]
        },
        {
          "output_type": "stream",
          "name": "stderr",
          "text": [
            "INFO:werkzeug: * Running on http://172.28.0.2:4000/ (Press CTRL+C to quit)\n",
            "INFO:werkzeug:172.28.0.2 - - [16/Nov/2022 18:01:36] \"\u001b[37mGET /parameters HTTP/1.1\u001b[0m\" 200 -\n",
            "INFO:werkzeug:172.28.0.2 - - [16/Nov/2022 18:01:40] \"\u001b[37mPOST /update HTTP/1.1\u001b[0m\" 200 -\n",
            "INFO:werkzeug:172.28.0.2 - - [16/Nov/2022 18:01:40] \"\u001b[37mGET /parameters HTTP/1.1\u001b[0m\" 200 -\n",
            "INFO:werkzeug:172.28.0.2 - - [16/Nov/2022 18:01:41] \"\u001b[37mPOST /update HTTP/1.1\u001b[0m\" 200 -\n",
            "INFO:werkzeug:172.28.0.2 - - [16/Nov/2022 18:01:41] \"\u001b[37mGET /parameters HTTP/1.1\u001b[0m\" 200 -\n",
            "INFO:werkzeug:172.28.0.2 - - [16/Nov/2022 18:01:42] \"\u001b[37mPOST /update HTTP/1.1\u001b[0m\" 200 -\n",
            "INFO:werkzeug:172.28.0.2 - - [16/Nov/2022 18:01:42] \"\u001b[37mGET /parameters HTTP/1.1\u001b[0m\" 200 -\n",
            "INFO:werkzeug:172.28.0.2 - - [16/Nov/2022 18:01:44] \"\u001b[37mPOST /update HTTP/1.1\u001b[0m\" 200 -\n",
            "INFO:werkzeug:172.28.0.2 - - [16/Nov/2022 18:01:44] \"\u001b[37mGET /parameters HTTP/1.1\u001b[0m\" 200 -\n",
            "INFO:werkzeug:172.28.0.2 - - [16/Nov/2022 18:01:45] \"\u001b[37mPOST /update HTTP/1.1\u001b[0m\" 200 -\n",
            "INFO:werkzeug:172.28.0.2 - - [16/Nov/2022 18:01:45] \"\u001b[37mGET /parameters HTTP/1.1\u001b[0m\" 200 -\n",
            "INFO:werkzeug:172.28.0.2 - - [16/Nov/2022 18:01:46] \"\u001b[37mPOST /update HTTP/1.1\u001b[0m\" 200 -\n",
            "INFO:werkzeug:172.28.0.2 - - [16/Nov/2022 18:01:46] \"\u001b[37mGET /parameters HTTP/1.1\u001b[0m\" 200 -\n",
            "INFO:werkzeug:172.28.0.2 - - [16/Nov/2022 18:01:47] \"\u001b[37mPOST /update HTTP/1.1\u001b[0m\" 200 -\n",
            "INFO:werkzeug:172.28.0.2 - - [16/Nov/2022 18:01:47] \"\u001b[37mGET /parameters HTTP/1.1\u001b[0m\" 200 -\n",
            "INFO:werkzeug:172.28.0.2 - - [16/Nov/2022 18:01:49] \"\u001b[37mPOST /update HTTP/1.1\u001b[0m\" 200 -\n",
            "INFO:werkzeug:172.28.0.2 - - [16/Nov/2022 18:01:49] \"\u001b[37mGET /parameters HTTP/1.1\u001b[0m\" 200 -\n",
            "INFO:werkzeug:172.28.0.2 - - [16/Nov/2022 18:01:50] \"\u001b[37mPOST /update HTTP/1.1\u001b[0m\" 200 -\n",
            "INFO:werkzeug:172.28.0.2 - - [16/Nov/2022 18:01:50] \"\u001b[37mGET /parameters HTTP/1.1\u001b[0m\" 200 -\n",
            "INFO:werkzeug:172.28.0.2 - - [16/Nov/2022 18:01:51] \"\u001b[37mPOST /update HTTP/1.1\u001b[0m\" 200 -\n",
            "INFO:werkzeug:172.28.0.2 - - [16/Nov/2022 18:01:51] \"\u001b[37mGET /parameters HTTP/1.1\u001b[0m\" 200 -\n",
            "INFO:werkzeug:172.28.0.2 - - [16/Nov/2022 18:01:52] \"\u001b[37mPOST /update HTTP/1.1\u001b[0m\" 200 -\n",
            "INFO:werkzeug:172.28.0.2 - - [16/Nov/2022 18:01:52] \"\u001b[37mGET /parameters HTTP/1.1\u001b[0m\" 200 -\n",
            "INFO:werkzeug:172.28.0.2 - - [16/Nov/2022 18:01:54] \"\u001b[37mPOST /update HTTP/1.1\u001b[0m\" 200 -\n",
            "INFO:werkzeug:172.28.0.2 - - [16/Nov/2022 18:01:54] \"\u001b[37mGET /parameters HTTP/1.1\u001b[0m\" 200 -\n",
            "INFO:werkzeug:172.28.0.2 - - [16/Nov/2022 18:01:55] \"\u001b[37mPOST /update HTTP/1.1\u001b[0m\" 200 -\n",
            "INFO:werkzeug:172.28.0.2 - - [16/Nov/2022 18:01:55] \"\u001b[37mGET /parameters HTTP/1.1\u001b[0m\" 200 -\n"
          ]
        },
        {
          "output_type": "stream",
          "name": "stdout",
          "text": [
            ">>> Async training complete.\n",
            "144/144 [==============================] - 1s 2ms/step - loss: 0.0031\n",
            "Test Loss: 0.003096235916018486\n"
          ]
        }
      ]
    },
    {
      "cell_type": "markdown",
      "source": [
        "# **Global Intensity**"
      ],
      "metadata": {
        "id": "biR45WRFAYX2"
      }
    },
    {
      "cell_type": "code",
      "source": [
        "df = df[['Global_intensity', 'Global_active_power',  'Global_reactive_power', 'Voltage', 'Sub_metering_2', 'Sub_metering_1','Sub_metering_3']]\n",
        "\n",
        "df_resample = df.resample('h').mean() \n",
        "df_resample.shape \n",
        "\n",
        "from sklearn.preprocessing import MinMaxScaler\n",
        "\n",
        "values = df_resample.values\n",
        "scaler = MinMaxScaler(feature_range=(0, 1))\n",
        "scaled = scaler.fit_transform(values)\n",
        "reframed = series_to_supervised(scaled, 1, 1)\n",
        "r = list(range(df_resample.shape[1]+1, 2*df_resample.shape[1]))\n",
        "reframed.drop(reframed.columns[r], axis=1, inplace=True)\n",
        "reframed.head()\n",
        "\n",
        "# Data spliting into train and test data series. Only 4000 first data points are selected for traing purpose.\n",
        "values = reframed.values\n",
        "n_train_time = 30000\n",
        "train = values[:n_train_time, :]\n",
        "test = values[n_train_time:, :]\n",
        "train_x, train_y = train[:, :-1], train[:, -1]\n",
        "test_x, test_y = test[:, :-1], test[:, -1]\n",
        "train_x = train_x.reshape((train_x.shape[0], 1, train_x.shape[1]))\n",
        "test_x = test_x.reshape((test_x.shape[0], 1, test_x.shape[1]))\n",
        "\n",
        "\n",
        "from keras.models import Sequential\n",
        "from keras.layers import LSTM\n",
        "from keras.layers import Dropout\n",
        "from keras.layers import Dense\n",
        "\n",
        "from pyspark import SparkContext, SparkConf\n",
        "from pyspark.sql import SparkSession\n",
        "from elephas.spark_model import SparkModel\n",
        "from elephas.utils.rdd_utils import to_simple_rdd\n",
        "\n",
        "\n",
        "model4 = Sequential()\n",
        "model4.add(LSTM(100, input_shape=(train_x.shape[1], train_x.shape[2])))\n",
        "# model3.add(Dropout(0.1))\n",
        "model4.add(Dense(30))\n",
        "model4.add(Dense(1))\n",
        "model4.compile(loss='mean_squared_error', optimizer='adam')\n",
        "\n",
        "# Convert TrainX and TrainY to RDD\n",
        "rdd = to_simple_rdd(sc, train_x, train_y)\n",
        "\n",
        "# Create Spark model\n",
        "spark_model = SparkModel(model4, frequency='epoch', mode='asynchronous', num_workers=1)\n",
        "spark_model.fit(rdd, epochs=13, batch_size=100, validation_data=(test_x, test_y), verbose=2, shuffle=False)\n",
        "\n",
        "# Evaluate Spark model by evaluating the underlying model\n",
        "score = spark_model.master_network.evaluate(test_x, test_y)\n",
        "print('Test Loss:', score)"
      ],
      "metadata": {
        "id": "j53uJI32u_Yx",
        "colab": {
          "base_uri": "https://localhost:8080/"
        },
        "outputId": "3222e66d-63e3-4c58-ba37-715ffa6c3ff7"
      },
      "execution_count": null,
      "outputs": [
        {
          "output_type": "stream",
          "name": "stdout",
          "text": [
            ">>> Fit model\n",
            " * Serving Flask app \"elephas.parameter.server\" (lazy loading)\n",
            " * Environment: production\n",
            ">>> Initialize workers\n",
            ">>> Distribute load\n",
            "\u001b[31m   WARNING: This is a development server. Do not use it in a production deployment.\u001b[0m\n",
            "\u001b[2m   Use a production WSGI server instead.\u001b[0m\n",
            " * Debug mode: off\n"
          ]
        },
        {
          "output_type": "stream",
          "name": "stderr",
          "text": [
            "INFO:werkzeug: * Running on http://172.28.0.2:4000/ (Press CTRL+C to quit)\n",
            "INFO:werkzeug:172.28.0.2 - - [16/Nov/2022 18:01:59] \"\u001b[37mGET /parameters HTTP/1.1\u001b[0m\" 200 -\n",
            "INFO:werkzeug:172.28.0.2 - - [16/Nov/2022 18:02:02] \"\u001b[37mPOST /update HTTP/1.1\u001b[0m\" 200 -\n",
            "INFO:werkzeug:172.28.0.2 - - [16/Nov/2022 18:02:02] \"\u001b[37mGET /parameters HTTP/1.1\u001b[0m\" 200 -\n",
            "INFO:werkzeug:172.28.0.2 - - [16/Nov/2022 18:02:05] \"\u001b[37mPOST /update HTTP/1.1\u001b[0m\" 200 -\n",
            "INFO:werkzeug:172.28.0.2 - - [16/Nov/2022 18:02:05] \"\u001b[37mGET /parameters HTTP/1.1\u001b[0m\" 200 -\n",
            "INFO:werkzeug:172.28.0.2 - - [16/Nov/2022 18:02:06] \"\u001b[37mPOST /update HTTP/1.1\u001b[0m\" 200 -\n",
            "INFO:werkzeug:172.28.0.2 - - [16/Nov/2022 18:02:06] \"\u001b[37mGET /parameters HTTP/1.1\u001b[0m\" 200 -\n",
            "INFO:werkzeug:172.28.0.2 - - [16/Nov/2022 18:02:07] \"\u001b[37mPOST /update HTTP/1.1\u001b[0m\" 200 -\n",
            "INFO:werkzeug:172.28.0.2 - - [16/Nov/2022 18:02:07] \"\u001b[37mGET /parameters HTTP/1.1\u001b[0m\" 200 -\n",
            "INFO:werkzeug:172.28.0.2 - - [16/Nov/2022 18:02:08] \"\u001b[37mPOST /update HTTP/1.1\u001b[0m\" 200 -\n",
            "INFO:werkzeug:172.28.0.2 - - [16/Nov/2022 18:02:08] \"\u001b[37mGET /parameters HTTP/1.1\u001b[0m\" 200 -\n",
            "INFO:werkzeug:172.28.0.2 - - [16/Nov/2022 18:02:10] \"\u001b[37mPOST /update HTTP/1.1\u001b[0m\" 200 -\n",
            "INFO:werkzeug:172.28.0.2 - - [16/Nov/2022 18:02:10] \"\u001b[37mGET /parameters HTTP/1.1\u001b[0m\" 200 -\n",
            "INFO:werkzeug:172.28.0.2 - - [16/Nov/2022 18:02:11] \"\u001b[37mPOST /update HTTP/1.1\u001b[0m\" 200 -\n",
            "INFO:werkzeug:172.28.0.2 - - [16/Nov/2022 18:02:11] \"\u001b[37mGET /parameters HTTP/1.1\u001b[0m\" 200 -\n",
            "INFO:werkzeug:172.28.0.2 - - [16/Nov/2022 18:02:12] \"\u001b[37mPOST /update HTTP/1.1\u001b[0m\" 200 -\n",
            "INFO:werkzeug:172.28.0.2 - - [16/Nov/2022 18:02:12] \"\u001b[37mGET /parameters HTTP/1.1\u001b[0m\" 200 -\n",
            "INFO:werkzeug:172.28.0.2 - - [16/Nov/2022 18:02:14] \"\u001b[37mPOST /update HTTP/1.1\u001b[0m\" 200 -\n",
            "INFO:werkzeug:172.28.0.2 - - [16/Nov/2022 18:02:14] \"\u001b[37mGET /parameters HTTP/1.1\u001b[0m\" 200 -\n",
            "INFO:werkzeug:172.28.0.2 - - [16/Nov/2022 18:02:15] \"\u001b[37mPOST /update HTTP/1.1\u001b[0m\" 200 -\n",
            "INFO:werkzeug:172.28.0.2 - - [16/Nov/2022 18:02:15] \"\u001b[37mGET /parameters HTTP/1.1\u001b[0m\" 200 -\n",
            "INFO:werkzeug:172.28.0.2 - - [16/Nov/2022 18:02:18] \"\u001b[37mPOST /update HTTP/1.1\u001b[0m\" 200 -\n",
            "INFO:werkzeug:172.28.0.2 - - [16/Nov/2022 18:02:18] \"\u001b[37mGET /parameters HTTP/1.1\u001b[0m\" 200 -\n",
            "INFO:werkzeug:172.28.0.2 - - [16/Nov/2022 18:02:19] \"\u001b[37mPOST /update HTTP/1.1\u001b[0m\" 200 -\n",
            "INFO:werkzeug:172.28.0.2 - - [16/Nov/2022 18:02:19] \"\u001b[37mGET /parameters HTTP/1.1\u001b[0m\" 200 -\n",
            "INFO:werkzeug:172.28.0.2 - - [16/Nov/2022 18:02:20] \"\u001b[37mPOST /update HTTP/1.1\u001b[0m\" 200 -\n",
            "INFO:werkzeug:172.28.0.2 - - [16/Nov/2022 18:02:20] \"\u001b[37mGET /parameters HTTP/1.1\u001b[0m\" 200 -\n"
          ]
        },
        {
          "output_type": "stream",
          "name": "stdout",
          "text": [
            ">>> Async training complete.\n",
            "144/144 [==============================] - 1s 2ms/step - loss: 0.0058\n",
            "Test Loss: 0.005831320304423571\n"
          ]
        }
      ]
    },
    {
      "cell_type": "markdown",
      "source": [
        "# **Submetering_1**"
      ],
      "metadata": {
        "id": "wttqA39CA5-m"
      }
    },
    {
      "cell_type": "code",
      "source": [
        "df = df[['Sub_metering_1', 'Global_active_power',  'Global_reactive_power', 'Voltage', 'Global_intensity', 'Sub_metering_2','Sub_metering_3']]\n",
        "\n",
        "df_resample = df.resample('h').mean() \n",
        "df_resample.shape \n",
        "\n",
        "from sklearn.preprocessing import MinMaxScaler\n",
        "\n",
        "values = df_resample.values\n",
        "scaler = MinMaxScaler(feature_range=(0, 1))\n",
        "scaled = scaler.fit_transform(values)\n",
        "reframed = series_to_supervised(scaled, 1, 1)\n",
        "r = list(range(df_resample.shape[1]+1, 2*df_resample.shape[1]))\n",
        "reframed.drop(reframed.columns[r], axis=1, inplace=True)\n",
        "reframed.head()\n",
        "\n",
        "# Data spliting into train and test data series. Only 4000 first data points are selected for traing purpose.\n",
        "values = reframed.values\n",
        "n_train_time = 30000\n",
        "train = values[:n_train_time, :]\n",
        "test = values[n_train_time:, :]\n",
        "train_x, train_y = train[:, :-1], train[:, -1]\n",
        "test_x, test_y = test[:, :-1], test[:, -1]\n",
        "train_x = train_x.reshape((train_x.shape[0], 1, train_x.shape[1]))\n",
        "test_x = test_x.reshape((test_x.shape[0], 1, test_x.shape[1]))\n",
        "\n",
        "\n",
        "from keras.models import Sequential\n",
        "from keras.layers import LSTM\n",
        "from keras.layers import Dropout\n",
        "from keras.layers import Dense\n",
        "\n",
        "from pyspark import SparkContext, SparkConf\n",
        "from pyspark.sql import SparkSession\n",
        "from elephas.spark_model import SparkModel\n",
        "from elephas.utils.rdd_utils import to_simple_rdd\n",
        "\n",
        "model5 = Sequential()\n",
        "model5.add(LSTM(200, input_shape=(train_x.shape[1], train_x.shape[2])))\n",
        "model5.add(Dropout(0.5))\n",
        "model5.add(Dense(1))\n",
        "model5.compile(loss='mean_squared_error', optimizer='adam')\n",
        "\n",
        "\n",
        "# Convert TrainX and TrainY to RDD\n",
        "rdd = to_simple_rdd(sc, train_x, train_y)\n",
        "\n",
        "# Create Spark model\n",
        "spark_model = SparkModel(model5, frequency='epoch', mode='asynchronous', num_workers=1)\n",
        "spark_model.fit(rdd, epochs=50, batch_size=100, validation_data=(test_x, test_y), verbose=2, shuffle=False)\n",
        "\n",
        "# Evaluate Spark model by evaluating the underlying model\n",
        "score = spark_model.master_network.evaluate(test_x, test_y)\n",
        "print('Test Loss:', score)"
      ],
      "metadata": {
        "id": "-rY-33tnu_a9",
        "colab": {
          "base_uri": "https://localhost:8080/"
        },
        "outputId": "ca61aab5-6223-4c4f-9349-1e1b36bd6b2d"
      },
      "execution_count": null,
      "outputs": [
        {
          "output_type": "stream",
          "name": "stdout",
          "text": [
            ">>> Fit model\n",
            " * Serving Flask app \"elephas.parameter.server\" (lazy loading)\n",
            " * Environment: production\n",
            "\u001b[31m   WARNING: This is a development server. Do not use it in a production deployment.\u001b[0m\n",
            "\u001b[2m   Use a production WSGI server instead.\u001b[0m\n",
            " * Debug mode: off\n"
          ]
        },
        {
          "output_type": "stream",
          "name": "stderr",
          "text": [
            "INFO:werkzeug: * Running on http://172.28.0.2:4000/ (Press CTRL+C to quit)\n"
          ]
        },
        {
          "output_type": "stream",
          "name": "stdout",
          "text": [
            ">>> Initialize workers\n",
            ">>> Distribute load\n"
          ]
        },
        {
          "output_type": "stream",
          "name": "stderr",
          "text": [
            "INFO:werkzeug:172.28.0.2 - - [16/Nov/2022 18:02:24] \"\u001b[37mGET /parameters HTTP/1.1\u001b[0m\" 200 -\n",
            "INFO:werkzeug:172.28.0.2 - - [16/Nov/2022 18:02:28] \"\u001b[37mPOST /update HTTP/1.1\u001b[0m\" 200 -\n",
            "INFO:werkzeug:172.28.0.2 - - [16/Nov/2022 18:02:28] \"\u001b[37mGET /parameters HTTP/1.1\u001b[0m\" 200 -\n",
            "INFO:werkzeug:172.28.0.2 - - [16/Nov/2022 18:02:30] \"\u001b[37mPOST /update HTTP/1.1\u001b[0m\" 200 -\n",
            "INFO:werkzeug:172.28.0.2 - - [16/Nov/2022 18:02:30] \"\u001b[37mGET /parameters HTTP/1.1\u001b[0m\" 200 -\n",
            "INFO:werkzeug:172.28.0.2 - - [16/Nov/2022 18:02:32] \"\u001b[37mPOST /update HTTP/1.1\u001b[0m\" 200 -\n",
            "INFO:werkzeug:172.28.0.2 - - [16/Nov/2022 18:02:32] \"\u001b[37mGET /parameters HTTP/1.1\u001b[0m\" 200 -\n",
            "INFO:werkzeug:172.28.0.2 - - [16/Nov/2022 18:02:35] \"\u001b[37mPOST /update HTTP/1.1\u001b[0m\" 200 -\n",
            "INFO:werkzeug:172.28.0.2 - - [16/Nov/2022 18:02:35] \"\u001b[37mGET /parameters HTTP/1.1\u001b[0m\" 200 -\n",
            "INFO:werkzeug:172.28.0.2 - - [16/Nov/2022 18:02:37] \"\u001b[37mPOST /update HTTP/1.1\u001b[0m\" 200 -\n",
            "INFO:werkzeug:172.28.0.2 - - [16/Nov/2022 18:02:37] \"\u001b[37mGET /parameters HTTP/1.1\u001b[0m\" 200 -\n",
            "INFO:werkzeug:172.28.0.2 - - [16/Nov/2022 18:02:39] \"\u001b[37mPOST /update HTTP/1.1\u001b[0m\" 200 -\n",
            "INFO:werkzeug:172.28.0.2 - - [16/Nov/2022 18:02:39] \"\u001b[37mGET /parameters HTTP/1.1\u001b[0m\" 200 -\n",
            "INFO:werkzeug:172.28.0.2 - - [16/Nov/2022 18:02:41] \"\u001b[37mPOST /update HTTP/1.1\u001b[0m\" 200 -\n",
            "INFO:werkzeug:172.28.0.2 - - [16/Nov/2022 18:02:41] \"\u001b[37mGET /parameters HTTP/1.1\u001b[0m\" 200 -\n",
            "INFO:werkzeug:172.28.0.2 - - [16/Nov/2022 18:02:44] \"\u001b[37mPOST /update HTTP/1.1\u001b[0m\" 200 -\n",
            "INFO:werkzeug:172.28.0.2 - - [16/Nov/2022 18:02:44] \"\u001b[37mGET /parameters HTTP/1.1\u001b[0m\" 200 -\n",
            "INFO:werkzeug:172.28.0.2 - - [16/Nov/2022 18:02:46] \"\u001b[37mPOST /update HTTP/1.1\u001b[0m\" 200 -\n",
            "INFO:werkzeug:172.28.0.2 - - [16/Nov/2022 18:02:46] \"\u001b[37mGET /parameters HTTP/1.1\u001b[0m\" 200 -\n",
            "INFO:werkzeug:172.28.0.2 - - [16/Nov/2022 18:02:49] \"\u001b[37mPOST /update HTTP/1.1\u001b[0m\" 200 -\n",
            "INFO:werkzeug:172.28.0.2 - - [16/Nov/2022 18:02:49] \"\u001b[37mGET /parameters HTTP/1.1\u001b[0m\" 200 -\n",
            "INFO:werkzeug:172.28.0.2 - - [16/Nov/2022 18:02:51] \"\u001b[37mPOST /update HTTP/1.1\u001b[0m\" 200 -\n",
            "INFO:werkzeug:172.28.0.2 - - [16/Nov/2022 18:02:51] \"\u001b[37mGET /parameters HTTP/1.1\u001b[0m\" 200 -\n",
            "INFO:werkzeug:172.28.0.2 - - [16/Nov/2022 18:02:53] \"\u001b[37mPOST /update HTTP/1.1\u001b[0m\" 200 -\n",
            "INFO:werkzeug:172.28.0.2 - - [16/Nov/2022 18:02:53] \"\u001b[37mGET /parameters HTTP/1.1\u001b[0m\" 200 -\n",
            "INFO:werkzeug:172.28.0.2 - - [16/Nov/2022 18:02:56] \"\u001b[37mPOST /update HTTP/1.1\u001b[0m\" 200 -\n",
            "INFO:werkzeug:172.28.0.2 - - [16/Nov/2022 18:02:56] \"\u001b[37mGET /parameters HTTP/1.1\u001b[0m\" 200 -\n",
            "INFO:werkzeug:172.28.0.2 - - [16/Nov/2022 18:02:58] \"\u001b[37mPOST /update HTTP/1.1\u001b[0m\" 200 -\n",
            "INFO:werkzeug:172.28.0.2 - - [16/Nov/2022 18:02:58] \"\u001b[37mGET /parameters HTTP/1.1\u001b[0m\" 200 -\n",
            "INFO:werkzeug:172.28.0.2 - - [16/Nov/2022 18:03:00] \"\u001b[37mPOST /update HTTP/1.1\u001b[0m\" 200 -\n",
            "INFO:werkzeug:172.28.0.2 - - [16/Nov/2022 18:03:00] \"\u001b[37mGET /parameters HTTP/1.1\u001b[0m\" 200 -\n",
            "INFO:werkzeug:172.28.0.2 - - [16/Nov/2022 18:03:03] \"\u001b[37mPOST /update HTTP/1.1\u001b[0m\" 200 -\n",
            "INFO:werkzeug:172.28.0.2 - - [16/Nov/2022 18:03:03] \"\u001b[37mGET /parameters HTTP/1.1\u001b[0m\" 200 -\n",
            "INFO:werkzeug:172.28.0.2 - - [16/Nov/2022 18:03:05] \"\u001b[37mPOST /update HTTP/1.1\u001b[0m\" 200 -\n",
            "INFO:werkzeug:172.28.0.2 - - [16/Nov/2022 18:03:05] \"\u001b[37mGET /parameters HTTP/1.1\u001b[0m\" 200 -\n",
            "INFO:werkzeug:172.28.0.2 - - [16/Nov/2022 18:03:07] \"\u001b[37mPOST /update HTTP/1.1\u001b[0m\" 200 -\n",
            "INFO:werkzeug:172.28.0.2 - - [16/Nov/2022 18:03:07] \"\u001b[37mGET /parameters HTTP/1.1\u001b[0m\" 200 -\n",
            "INFO:werkzeug:172.28.0.2 - - [16/Nov/2022 18:03:09] \"\u001b[37mPOST /update HTTP/1.1\u001b[0m\" 200 -\n",
            "INFO:werkzeug:172.28.0.2 - - [16/Nov/2022 18:03:09] \"\u001b[37mGET /parameters HTTP/1.1\u001b[0m\" 200 -\n",
            "INFO:werkzeug:172.28.0.2 - - [16/Nov/2022 18:03:11] \"\u001b[37mPOST /update HTTP/1.1\u001b[0m\" 200 -\n",
            "INFO:werkzeug:172.28.0.2 - - [16/Nov/2022 18:03:11] \"\u001b[37mGET /parameters HTTP/1.1\u001b[0m\" 200 -\n",
            "INFO:werkzeug:172.28.0.2 - - [16/Nov/2022 18:03:13] \"\u001b[37mPOST /update HTTP/1.1\u001b[0m\" 200 -\n",
            "INFO:werkzeug:172.28.0.2 - - [16/Nov/2022 18:03:13] \"\u001b[37mGET /parameters HTTP/1.1\u001b[0m\" 200 -\n",
            "INFO:werkzeug:172.28.0.2 - - [16/Nov/2022 18:03:15] \"\u001b[37mPOST /update HTTP/1.1\u001b[0m\" 200 -\n",
            "INFO:werkzeug:172.28.0.2 - - [16/Nov/2022 18:03:15] \"\u001b[37mGET /parameters HTTP/1.1\u001b[0m\" 200 -\n",
            "INFO:werkzeug:172.28.0.2 - - [16/Nov/2022 18:03:17] \"\u001b[37mPOST /update HTTP/1.1\u001b[0m\" 200 -\n",
            "INFO:werkzeug:172.28.0.2 - - [16/Nov/2022 18:03:17] \"\u001b[37mGET /parameters HTTP/1.1\u001b[0m\" 200 -\n",
            "INFO:werkzeug:172.28.0.2 - - [16/Nov/2022 18:03:20] \"\u001b[37mPOST /update HTTP/1.1\u001b[0m\" 200 -\n",
            "INFO:werkzeug:172.28.0.2 - - [16/Nov/2022 18:03:20] \"\u001b[37mGET /parameters HTTP/1.1\u001b[0m\" 200 -\n",
            "INFO:werkzeug:172.28.0.2 - - [16/Nov/2022 18:03:22] \"\u001b[37mPOST /update HTTP/1.1\u001b[0m\" 200 -\n",
            "INFO:werkzeug:172.28.0.2 - - [16/Nov/2022 18:03:22] \"\u001b[37mGET /parameters HTTP/1.1\u001b[0m\" 200 -\n",
            "INFO:werkzeug:172.28.0.2 - - [16/Nov/2022 18:03:24] \"\u001b[37mPOST /update HTTP/1.1\u001b[0m\" 200 -\n",
            "INFO:werkzeug:172.28.0.2 - - [16/Nov/2022 18:03:24] \"\u001b[37mGET /parameters HTTP/1.1\u001b[0m\" 200 -\n",
            "INFO:werkzeug:172.28.0.2 - - [16/Nov/2022 18:03:27] \"\u001b[37mPOST /update HTTP/1.1\u001b[0m\" 200 -\n",
            "INFO:werkzeug:172.28.0.2 - - [16/Nov/2022 18:03:27] \"\u001b[37mGET /parameters HTTP/1.1\u001b[0m\" 200 -\n",
            "INFO:werkzeug:172.28.0.2 - - [16/Nov/2022 18:03:29] \"\u001b[37mPOST /update HTTP/1.1\u001b[0m\" 200 -\n",
            "INFO:werkzeug:172.28.0.2 - - [16/Nov/2022 18:03:29] \"\u001b[37mGET /parameters HTTP/1.1\u001b[0m\" 200 -\n",
            "INFO:werkzeug:172.28.0.2 - - [16/Nov/2022 18:03:30] \"\u001b[37mPOST /update HTTP/1.1\u001b[0m\" 200 -\n",
            "INFO:werkzeug:172.28.0.2 - - [16/Nov/2022 18:03:30] \"\u001b[37mGET /parameters HTTP/1.1\u001b[0m\" 200 -\n",
            "INFO:werkzeug:172.28.0.2 - - [16/Nov/2022 18:03:32] \"\u001b[37mPOST /update HTTP/1.1\u001b[0m\" 200 -\n",
            "INFO:werkzeug:172.28.0.2 - - [16/Nov/2022 18:03:32] \"\u001b[37mGET /parameters HTTP/1.1\u001b[0m\" 200 -\n",
            "INFO:werkzeug:172.28.0.2 - - [16/Nov/2022 18:03:35] \"\u001b[37mPOST /update HTTP/1.1\u001b[0m\" 200 -\n",
            "INFO:werkzeug:172.28.0.2 - - [16/Nov/2022 18:03:35] \"\u001b[37mGET /parameters HTTP/1.1\u001b[0m\" 200 -\n",
            "INFO:werkzeug:172.28.0.2 - - [16/Nov/2022 18:03:38] \"\u001b[37mPOST /update HTTP/1.1\u001b[0m\" 200 -\n",
            "INFO:werkzeug:172.28.0.2 - - [16/Nov/2022 18:03:38] \"\u001b[37mGET /parameters HTTP/1.1\u001b[0m\" 200 -\n",
            "INFO:werkzeug:172.28.0.2 - - [16/Nov/2022 18:03:40] \"\u001b[37mPOST /update HTTP/1.1\u001b[0m\" 200 -\n",
            "INFO:werkzeug:172.28.0.2 - - [16/Nov/2022 18:03:40] \"\u001b[37mGET /parameters HTTP/1.1\u001b[0m\" 200 -\n",
            "INFO:werkzeug:172.28.0.2 - - [16/Nov/2022 18:03:42] \"\u001b[37mPOST /update HTTP/1.1\u001b[0m\" 200 -\n",
            "INFO:werkzeug:172.28.0.2 - - [16/Nov/2022 18:03:42] \"\u001b[37mGET /parameters HTTP/1.1\u001b[0m\" 200 -\n",
            "INFO:werkzeug:172.28.0.2 - - [16/Nov/2022 18:03:44] \"\u001b[37mPOST /update HTTP/1.1\u001b[0m\" 200 -\n",
            "INFO:werkzeug:172.28.0.2 - - [16/Nov/2022 18:03:44] \"\u001b[37mGET /parameters HTTP/1.1\u001b[0m\" 200 -\n",
            "INFO:werkzeug:172.28.0.2 - - [16/Nov/2022 18:03:47] \"\u001b[37mPOST /update HTTP/1.1\u001b[0m\" 200 -\n",
            "INFO:werkzeug:172.28.0.2 - - [16/Nov/2022 18:03:47] \"\u001b[37mGET /parameters HTTP/1.1\u001b[0m\" 200 -\n",
            "INFO:werkzeug:172.28.0.2 - - [16/Nov/2022 18:03:49] \"\u001b[37mPOST /update HTTP/1.1\u001b[0m\" 200 -\n",
            "INFO:werkzeug:172.28.0.2 - - [16/Nov/2022 18:03:49] \"\u001b[37mGET /parameters HTTP/1.1\u001b[0m\" 200 -\n",
            "INFO:werkzeug:172.28.0.2 - - [16/Nov/2022 18:03:51] \"\u001b[37mPOST /update HTTP/1.1\u001b[0m\" 200 -\n",
            "INFO:werkzeug:172.28.0.2 - - [16/Nov/2022 18:03:51] \"\u001b[37mGET /parameters HTTP/1.1\u001b[0m\" 200 -\n",
            "INFO:werkzeug:172.28.0.2 - - [16/Nov/2022 18:03:54] \"\u001b[37mPOST /update HTTP/1.1\u001b[0m\" 200 -\n",
            "INFO:werkzeug:172.28.0.2 - - [16/Nov/2022 18:03:54] \"\u001b[37mGET /parameters HTTP/1.1\u001b[0m\" 200 -\n",
            "INFO:werkzeug:172.28.0.2 - - [16/Nov/2022 18:03:56] \"\u001b[37mPOST /update HTTP/1.1\u001b[0m\" 200 -\n",
            "INFO:werkzeug:172.28.0.2 - - [16/Nov/2022 18:03:56] \"\u001b[37mGET /parameters HTTP/1.1\u001b[0m\" 200 -\n",
            "INFO:werkzeug:172.28.0.2 - - [16/Nov/2022 18:03:58] \"\u001b[37mPOST /update HTTP/1.1\u001b[0m\" 200 -\n",
            "INFO:werkzeug:172.28.0.2 - - [16/Nov/2022 18:03:58] \"\u001b[37mGET /parameters HTTP/1.1\u001b[0m\" 200 -\n",
            "INFO:werkzeug:172.28.0.2 - - [16/Nov/2022 18:04:00] \"\u001b[37mPOST /update HTTP/1.1\u001b[0m\" 200 -\n",
            "INFO:werkzeug:172.28.0.2 - - [16/Nov/2022 18:04:00] \"\u001b[37mGET /parameters HTTP/1.1\u001b[0m\" 200 -\n",
            "INFO:werkzeug:172.28.0.2 - - [16/Nov/2022 18:04:02] \"\u001b[37mPOST /update HTTP/1.1\u001b[0m\" 200 -\n",
            "INFO:werkzeug:172.28.0.2 - - [16/Nov/2022 18:04:02] \"\u001b[37mGET /parameters HTTP/1.1\u001b[0m\" 200 -\n",
            "INFO:werkzeug:172.28.0.2 - - [16/Nov/2022 18:04:07] \"\u001b[37mPOST /update HTTP/1.1\u001b[0m\" 200 -\n",
            "INFO:werkzeug:172.28.0.2 - - [16/Nov/2022 18:04:07] \"\u001b[37mGET /parameters HTTP/1.1\u001b[0m\" 200 -\n",
            "INFO:werkzeug:172.28.0.2 - - [16/Nov/2022 18:04:10] \"\u001b[37mPOST /update HTTP/1.1\u001b[0m\" 200 -\n",
            "INFO:werkzeug:172.28.0.2 - - [16/Nov/2022 18:04:10] \"\u001b[37mGET /parameters HTTP/1.1\u001b[0m\" 200 -\n",
            "INFO:werkzeug:172.28.0.2 - - [16/Nov/2022 18:04:13] \"\u001b[37mPOST /update HTTP/1.1\u001b[0m\" 200 -\n",
            "INFO:werkzeug:172.28.0.2 - - [16/Nov/2022 18:04:13] \"\u001b[37mGET /parameters HTTP/1.1\u001b[0m\" 200 -\n",
            "INFO:werkzeug:172.28.0.2 - - [16/Nov/2022 18:04:15] \"\u001b[37mPOST /update HTTP/1.1\u001b[0m\" 200 -\n",
            "INFO:werkzeug:172.28.0.2 - - [16/Nov/2022 18:04:15] \"\u001b[37mGET /parameters HTTP/1.1\u001b[0m\" 200 -\n",
            "INFO:werkzeug:172.28.0.2 - - [16/Nov/2022 18:04:18] \"\u001b[37mPOST /update HTTP/1.1\u001b[0m\" 200 -\n",
            "INFO:werkzeug:172.28.0.2 - - [16/Nov/2022 18:04:18] \"\u001b[37mGET /parameters HTTP/1.1\u001b[0m\" 200 -\n",
            "INFO:werkzeug:172.28.0.2 - - [16/Nov/2022 18:04:20] \"\u001b[37mPOST /update HTTP/1.1\u001b[0m\" 200 -\n",
            "INFO:werkzeug:172.28.0.2 - - [16/Nov/2022 18:04:20] \"\u001b[37mGET /parameters HTTP/1.1\u001b[0m\" 200 -\n",
            "INFO:werkzeug:172.28.0.2 - - [16/Nov/2022 18:04:22] \"\u001b[37mPOST /update HTTP/1.1\u001b[0m\" 200 -\n",
            "INFO:werkzeug:172.28.0.2 - - [16/Nov/2022 18:04:22] \"\u001b[37mGET /parameters HTTP/1.1\u001b[0m\" 200 -\n"
          ]
        },
        {
          "output_type": "stream",
          "name": "stdout",
          "text": [
            ">>> Async training complete.\n",
            "144/144 [==============================] - 1s 2ms/step - loss: 0.0032\n",
            "Test Loss: 0.003230471396818757\n"
          ]
        }
      ]
    },
    {
      "cell_type": "markdown",
      "source": [
        "# **Submetering_2**"
      ],
      "metadata": {
        "id": "OY_tKoF7BUc3"
      }
    },
    {
      "cell_type": "code",
      "source": [
        "df = df[['Sub_metering_2', 'Global_active_power',  'Global_reactive_power', 'Voltage', 'Global_intensity', 'Sub_metering_1','Sub_metering_3']]\n",
        "\n",
        "df_resample = df.resample('h').mean() \n",
        "df_resample.shape \n",
        "\n",
        "from sklearn.preprocessing import MinMaxScaler\n",
        "\n",
        "values = df_resample.values\n",
        "scaler = MinMaxScaler(feature_range=(0, 1))\n",
        "scaled = scaler.fit_transform(values)\n",
        "reframed = series_to_supervised(scaled, 1, 1)\n",
        "r = list(range(df_resample.shape[1]+1, 2*df_resample.shape[1]))\n",
        "reframed.drop(reframed.columns[r], axis=1, inplace=True)\n",
        "reframed.head()\n",
        "\n",
        "# Data spliting into train and test data series. Only 4000 first data points are selected for traing purpose.\n",
        "values = reframed.values\n",
        "n_train_time = 30000\n",
        "train = values[:n_train_time, :]\n",
        "test = values[n_train_time:, :]\n",
        "train_x, train_y = train[:, :-1], train[:, -1]\n",
        "test_x, test_y = test[:, :-1], test[:, -1]\n",
        "train_x = train_x.reshape((train_x.shape[0], 1, train_x.shape[1]))\n",
        "test_x = test_x.reshape((test_x.shape[0], 1, test_x.shape[1]))\n",
        "\n",
        "\n",
        "from keras.models import Sequential\n",
        "from keras.layers import LSTM\n",
        "from keras.layers import Dropout\n",
        "from keras.layers import Dense\n",
        "\n",
        "from pyspark import SparkContext, SparkConf\n",
        "from pyspark.sql import SparkSession\n",
        "from elephas.spark_model import SparkModel\n",
        "from elephas.utils.rdd_utils import to_simple_rdd\n",
        "\n",
        "model6 = Sequential()\n",
        "model6.add(LSTM(100, input_shape=(train_x.shape[1], train_x.shape[2])))\n",
        "# model3.add(Dropout(0.5))\n",
        "model6.add(Dense(1))\n",
        "model6.compile(loss='mean_squared_error', optimizer='RMSprop')\n",
        "\n",
        "# Convert TrainX and TrainY to RDD\n",
        "rdd = to_simple_rdd(sc, train_x, train_y)\n",
        "\n",
        "# Create Spark model\n",
        "spark_model = SparkModel(model5, frequency='epoch', mode='asynchronous', num_workers=1)\n",
        "spark_model.fit(rdd, epochs=50, batch_size=100, validation_data=(test_x, test_y), verbose=2, shuffle=False)\n",
        "\n",
        "# Evaluate Spark model by evaluating the underlying model\n",
        "score = spark_model.master_network.evaluate(test_x, test_y)\n",
        "print('Test Loss:', score)"
      ],
      "metadata": {
        "id": "FGYclmzZu06T",
        "colab": {
          "base_uri": "https://localhost:8080/"
        },
        "outputId": "eec7b5b6-720f-459b-acad-e943029f970c"
      },
      "execution_count": null,
      "outputs": [
        {
          "output_type": "stream",
          "name": "stdout",
          "text": [
            ">>> Fit model\n",
            " * Serving Flask app \"elephas.parameter.server\" (lazy loading)\n",
            " * Environment: production\n",
            "\u001b[31m   WARNING: This is a development server. Do not use it in a production deployment.\u001b[0m\n",
            "\u001b[2m   Use a production WSGI server instead.\u001b[0m\n",
            " * Debug mode: off\n"
          ]
        },
        {
          "output_type": "stream",
          "name": "stderr",
          "text": [
            "INFO:werkzeug: * Running on http://172.28.0.2:4000/ (Press CTRL+C to quit)\n"
          ]
        },
        {
          "output_type": "stream",
          "name": "stdout",
          "text": [
            ">>> Initialize workers\n",
            ">>> Distribute load\n"
          ]
        },
        {
          "output_type": "stream",
          "name": "stderr",
          "text": [
            "INFO:werkzeug:172.28.0.2 - - [16/Nov/2022 18:04:27] \"\u001b[37mGET /parameters HTTP/1.1\u001b[0m\" 200 -\n",
            "INFO:werkzeug:172.28.0.2 - - [16/Nov/2022 18:04:33] \"\u001b[37mPOST /update HTTP/1.1\u001b[0m\" 200 -\n",
            "INFO:werkzeug:172.28.0.2 - - [16/Nov/2022 18:04:33] \"\u001b[37mGET /parameters HTTP/1.1\u001b[0m\" 200 -\n",
            "INFO:werkzeug:172.28.0.2 - - [16/Nov/2022 18:04:36] \"\u001b[37mPOST /update HTTP/1.1\u001b[0m\" 200 -\n",
            "INFO:werkzeug:172.28.0.2 - - [16/Nov/2022 18:04:36] \"\u001b[37mGET /parameters HTTP/1.1\u001b[0m\" 200 -\n",
            "INFO:werkzeug:172.28.0.2 - - [16/Nov/2022 18:04:38] \"\u001b[37mPOST /update HTTP/1.1\u001b[0m\" 200 -\n",
            "INFO:werkzeug:172.28.0.2 - - [16/Nov/2022 18:04:38] \"\u001b[37mGET /parameters HTTP/1.1\u001b[0m\" 200 -\n",
            "INFO:werkzeug:172.28.0.2 - - [16/Nov/2022 18:04:42] \"\u001b[37mPOST /update HTTP/1.1\u001b[0m\" 200 -\n",
            "INFO:werkzeug:172.28.0.2 - - [16/Nov/2022 18:04:42] \"\u001b[37mGET /parameters HTTP/1.1\u001b[0m\" 200 -\n",
            "INFO:werkzeug:172.28.0.2 - - [16/Nov/2022 18:04:45] \"\u001b[37mPOST /update HTTP/1.1\u001b[0m\" 200 -\n",
            "INFO:werkzeug:172.28.0.2 - - [16/Nov/2022 18:04:45] \"\u001b[37mGET /parameters HTTP/1.1\u001b[0m\" 200 -\n",
            "INFO:werkzeug:172.28.0.2 - - [16/Nov/2022 18:04:48] \"\u001b[37mPOST /update HTTP/1.1\u001b[0m\" 200 -\n",
            "INFO:werkzeug:172.28.0.2 - - [16/Nov/2022 18:04:48] \"\u001b[37mGET /parameters HTTP/1.1\u001b[0m\" 200 -\n",
            "INFO:werkzeug:172.28.0.2 - - [16/Nov/2022 18:04:50] \"\u001b[37mPOST /update HTTP/1.1\u001b[0m\" 200 -\n",
            "INFO:werkzeug:172.28.0.2 - - [16/Nov/2022 18:04:50] \"\u001b[37mGET /parameters HTTP/1.1\u001b[0m\" 200 -\n",
            "INFO:werkzeug:172.28.0.2 - - [16/Nov/2022 18:04:53] \"\u001b[37mPOST /update HTTP/1.1\u001b[0m\" 200 -\n",
            "INFO:werkzeug:172.28.0.2 - - [16/Nov/2022 18:04:53] \"\u001b[37mGET /parameters HTTP/1.1\u001b[0m\" 200 -\n",
            "INFO:werkzeug:172.28.0.2 - - [16/Nov/2022 18:04:55] \"\u001b[37mPOST /update HTTP/1.1\u001b[0m\" 200 -\n",
            "INFO:werkzeug:172.28.0.2 - - [16/Nov/2022 18:04:55] \"\u001b[37mGET /parameters HTTP/1.1\u001b[0m\" 200 -\n",
            "INFO:werkzeug:172.28.0.2 - - [16/Nov/2022 18:04:58] \"\u001b[37mPOST /update HTTP/1.1\u001b[0m\" 200 -\n",
            "INFO:werkzeug:172.28.0.2 - - [16/Nov/2022 18:04:58] \"\u001b[37mGET /parameters HTTP/1.1\u001b[0m\" 200 -\n",
            "INFO:werkzeug:172.28.0.2 - - [16/Nov/2022 18:05:00] \"\u001b[37mPOST /update HTTP/1.1\u001b[0m\" 200 -\n",
            "INFO:werkzeug:172.28.0.2 - - [16/Nov/2022 18:05:00] \"\u001b[37mGET /parameters HTTP/1.1\u001b[0m\" 200 -\n",
            "INFO:werkzeug:172.28.0.2 - - [16/Nov/2022 18:05:02] \"\u001b[37mPOST /update HTTP/1.1\u001b[0m\" 200 -\n",
            "INFO:werkzeug:172.28.0.2 - - [16/Nov/2022 18:05:02] \"\u001b[37mGET /parameters HTTP/1.1\u001b[0m\" 200 -\n",
            "INFO:werkzeug:172.28.0.2 - - [16/Nov/2022 18:05:05] \"\u001b[37mPOST /update HTTP/1.1\u001b[0m\" 200 -\n",
            "INFO:werkzeug:172.28.0.2 - - [16/Nov/2022 18:05:05] \"\u001b[37mGET /parameters HTTP/1.1\u001b[0m\" 200 -\n",
            "INFO:werkzeug:172.28.0.2 - - [16/Nov/2022 18:05:08] \"\u001b[37mPOST /update HTTP/1.1\u001b[0m\" 200 -\n",
            "INFO:werkzeug:172.28.0.2 - - [16/Nov/2022 18:05:08] \"\u001b[37mGET /parameters HTTP/1.1\u001b[0m\" 200 -\n",
            "INFO:werkzeug:172.28.0.2 - - [16/Nov/2022 18:05:10] \"\u001b[37mPOST /update HTTP/1.1\u001b[0m\" 200 -\n",
            "INFO:werkzeug:172.28.0.2 - - [16/Nov/2022 18:05:10] \"\u001b[37mGET /parameters HTTP/1.1\u001b[0m\" 200 -\n",
            "INFO:werkzeug:172.28.0.2 - - [16/Nov/2022 18:05:12] \"\u001b[37mPOST /update HTTP/1.1\u001b[0m\" 200 -\n",
            "INFO:werkzeug:172.28.0.2 - - [16/Nov/2022 18:05:12] \"\u001b[37mGET /parameters HTTP/1.1\u001b[0m\" 200 -\n",
            "INFO:werkzeug:172.28.0.2 - - [16/Nov/2022 18:05:14] \"\u001b[37mPOST /update HTTP/1.1\u001b[0m\" 200 -\n",
            "INFO:werkzeug:172.28.0.2 - - [16/Nov/2022 18:05:14] \"\u001b[37mGET /parameters HTTP/1.1\u001b[0m\" 200 -\n",
            "INFO:werkzeug:172.28.0.2 - - [16/Nov/2022 18:05:16] \"\u001b[37mPOST /update HTTP/1.1\u001b[0m\" 200 -\n",
            "INFO:werkzeug:172.28.0.2 - - [16/Nov/2022 18:05:16] \"\u001b[37mGET /parameters HTTP/1.1\u001b[0m\" 200 -\n",
            "INFO:werkzeug:172.28.0.2 - - [16/Nov/2022 18:05:18] \"\u001b[37mPOST /update HTTP/1.1\u001b[0m\" 200 -\n",
            "INFO:werkzeug:172.28.0.2 - - [16/Nov/2022 18:05:18] \"\u001b[37mGET /parameters HTTP/1.1\u001b[0m\" 200 -\n",
            "INFO:werkzeug:172.28.0.2 - - [16/Nov/2022 18:05:21] \"\u001b[37mPOST /update HTTP/1.1\u001b[0m\" 200 -\n",
            "INFO:werkzeug:172.28.0.2 - - [16/Nov/2022 18:05:21] \"\u001b[37mGET /parameters HTTP/1.1\u001b[0m\" 200 -\n",
            "INFO:werkzeug:172.28.0.2 - - [16/Nov/2022 18:05:23] \"\u001b[37mPOST /update HTTP/1.1\u001b[0m\" 200 -\n",
            "INFO:werkzeug:172.28.0.2 - - [16/Nov/2022 18:05:23] \"\u001b[37mGET /parameters HTTP/1.1\u001b[0m\" 200 -\n",
            "INFO:werkzeug:172.28.0.2 - - [16/Nov/2022 18:05:26] \"\u001b[37mPOST /update HTTP/1.1\u001b[0m\" 200 -\n",
            "INFO:werkzeug:172.28.0.2 - - [16/Nov/2022 18:05:26] \"\u001b[37mGET /parameters HTTP/1.1\u001b[0m\" 200 -\n",
            "INFO:werkzeug:172.28.0.2 - - [16/Nov/2022 18:05:28] \"\u001b[37mPOST /update HTTP/1.1\u001b[0m\" 200 -\n",
            "INFO:werkzeug:172.28.0.2 - - [16/Nov/2022 18:05:28] \"\u001b[37mGET /parameters HTTP/1.1\u001b[0m\" 200 -\n",
            "INFO:werkzeug:172.28.0.2 - - [16/Nov/2022 18:05:30] \"\u001b[37mPOST /update HTTP/1.1\u001b[0m\" 200 -\n",
            "INFO:werkzeug:172.28.0.2 - - [16/Nov/2022 18:05:30] \"\u001b[37mGET /parameters HTTP/1.1\u001b[0m\" 200 -\n",
            "INFO:werkzeug:172.28.0.2 - - [16/Nov/2022 18:05:32] \"\u001b[37mPOST /update HTTP/1.1\u001b[0m\" 200 -\n",
            "INFO:werkzeug:172.28.0.2 - - [16/Nov/2022 18:05:32] \"\u001b[37mGET /parameters HTTP/1.1\u001b[0m\" 200 -\n",
            "INFO:werkzeug:172.28.0.2 - - [16/Nov/2022 18:05:35] \"\u001b[37mPOST /update HTTP/1.1\u001b[0m\" 200 -\n",
            "INFO:werkzeug:172.28.0.2 - - [16/Nov/2022 18:05:35] \"\u001b[37mGET /parameters HTTP/1.1\u001b[0m\" 200 -\n",
            "INFO:werkzeug:172.28.0.2 - - [16/Nov/2022 18:05:37] \"\u001b[37mPOST /update HTTP/1.1\u001b[0m\" 200 -\n",
            "INFO:werkzeug:172.28.0.2 - - [16/Nov/2022 18:05:37] \"\u001b[37mGET /parameters HTTP/1.1\u001b[0m\" 200 -\n",
            "INFO:werkzeug:172.28.0.2 - - [16/Nov/2022 18:05:39] \"\u001b[37mPOST /update HTTP/1.1\u001b[0m\" 200 -\n",
            "INFO:werkzeug:172.28.0.2 - - [16/Nov/2022 18:05:39] \"\u001b[37mGET /parameters HTTP/1.1\u001b[0m\" 200 -\n",
            "INFO:werkzeug:172.28.0.2 - - [16/Nov/2022 18:05:41] \"\u001b[37mPOST /update HTTP/1.1\u001b[0m\" 200 -\n",
            "INFO:werkzeug:172.28.0.2 - - [16/Nov/2022 18:05:41] \"\u001b[37mGET /parameters HTTP/1.1\u001b[0m\" 200 -\n",
            "INFO:werkzeug:172.28.0.2 - - [16/Nov/2022 18:05:44] \"\u001b[37mPOST /update HTTP/1.1\u001b[0m\" 200 -\n",
            "INFO:werkzeug:172.28.0.2 - - [16/Nov/2022 18:05:44] \"\u001b[37mGET /parameters HTTP/1.1\u001b[0m\" 200 -\n",
            "INFO:werkzeug:172.28.0.2 - - [16/Nov/2022 18:05:46] \"\u001b[37mPOST /update HTTP/1.1\u001b[0m\" 200 -\n",
            "INFO:werkzeug:172.28.0.2 - - [16/Nov/2022 18:05:46] \"\u001b[37mGET /parameters HTTP/1.1\u001b[0m\" 200 -\n",
            "INFO:werkzeug:172.28.0.2 - - [16/Nov/2022 18:05:49] \"\u001b[37mPOST /update HTTP/1.1\u001b[0m\" 200 -\n",
            "INFO:werkzeug:172.28.0.2 - - [16/Nov/2022 18:05:49] \"\u001b[37mGET /parameters HTTP/1.1\u001b[0m\" 200 -\n",
            "INFO:werkzeug:172.28.0.2 - - [16/Nov/2022 18:05:51] \"\u001b[37mPOST /update HTTP/1.1\u001b[0m\" 200 -\n",
            "INFO:werkzeug:172.28.0.2 - - [16/Nov/2022 18:05:51] \"\u001b[37mGET /parameters HTTP/1.1\u001b[0m\" 200 -\n",
            "INFO:werkzeug:172.28.0.2 - - [16/Nov/2022 18:05:53] \"\u001b[37mPOST /update HTTP/1.1\u001b[0m\" 200 -\n",
            "INFO:werkzeug:172.28.0.2 - - [16/Nov/2022 18:05:53] \"\u001b[37mGET /parameters HTTP/1.1\u001b[0m\" 200 -\n",
            "INFO:werkzeug:172.28.0.2 - - [16/Nov/2022 18:05:55] \"\u001b[37mPOST /update HTTP/1.1\u001b[0m\" 200 -\n",
            "INFO:werkzeug:172.28.0.2 - - [16/Nov/2022 18:05:55] \"\u001b[37mGET /parameters HTTP/1.1\u001b[0m\" 200 -\n",
            "INFO:werkzeug:172.28.0.2 - - [16/Nov/2022 18:05:58] \"\u001b[37mPOST /update HTTP/1.1\u001b[0m\" 200 -\n",
            "INFO:werkzeug:172.28.0.2 - - [16/Nov/2022 18:05:58] \"\u001b[37mGET /parameters HTTP/1.1\u001b[0m\" 200 -\n",
            "INFO:werkzeug:172.28.0.2 - - [16/Nov/2022 18:06:00] \"\u001b[37mPOST /update HTTP/1.1\u001b[0m\" 200 -\n",
            "INFO:werkzeug:172.28.0.2 - - [16/Nov/2022 18:06:00] \"\u001b[37mGET /parameters HTTP/1.1\u001b[0m\" 200 -\n",
            "INFO:werkzeug:172.28.0.2 - - [16/Nov/2022 18:06:02] \"\u001b[37mPOST /update HTTP/1.1\u001b[0m\" 200 -\n",
            "INFO:werkzeug:172.28.0.2 - - [16/Nov/2022 18:06:02] \"\u001b[37mGET /parameters HTTP/1.1\u001b[0m\" 200 -\n",
            "INFO:werkzeug:172.28.0.2 - - [16/Nov/2022 18:06:04] \"\u001b[37mPOST /update HTTP/1.1\u001b[0m\" 200 -\n",
            "INFO:werkzeug:172.28.0.2 - - [16/Nov/2022 18:06:04] \"\u001b[37mGET /parameters HTTP/1.1\u001b[0m\" 200 -\n",
            "INFO:werkzeug:172.28.0.2 - - [16/Nov/2022 18:06:07] \"\u001b[37mPOST /update HTTP/1.1\u001b[0m\" 200 -\n",
            "INFO:werkzeug:172.28.0.2 - - [16/Nov/2022 18:06:07] \"\u001b[37mGET /parameters HTTP/1.1\u001b[0m\" 200 -\n",
            "INFO:werkzeug:172.28.0.2 - - [16/Nov/2022 18:06:09] \"\u001b[37mPOST /update HTTP/1.1\u001b[0m\" 200 -\n",
            "INFO:werkzeug:172.28.0.2 - - [16/Nov/2022 18:06:09] \"\u001b[37mGET /parameters HTTP/1.1\u001b[0m\" 200 -\n",
            "INFO:werkzeug:172.28.0.2 - - [16/Nov/2022 18:06:12] \"\u001b[37mPOST /update HTTP/1.1\u001b[0m\" 200 -\n",
            "INFO:werkzeug:172.28.0.2 - - [16/Nov/2022 18:06:12] \"\u001b[37mGET /parameters HTTP/1.1\u001b[0m\" 200 -\n",
            "INFO:werkzeug:172.28.0.2 - - [16/Nov/2022 18:06:14] \"\u001b[37mPOST /update HTTP/1.1\u001b[0m\" 200 -\n",
            "INFO:werkzeug:172.28.0.2 - - [16/Nov/2022 18:06:14] \"\u001b[37mGET /parameters HTTP/1.1\u001b[0m\" 200 -\n",
            "INFO:werkzeug:172.28.0.2 - - [16/Nov/2022 18:06:16] \"\u001b[37mPOST /update HTTP/1.1\u001b[0m\" 200 -\n",
            "INFO:werkzeug:172.28.0.2 - - [16/Nov/2022 18:06:16] \"\u001b[37mGET /parameters HTTP/1.1\u001b[0m\" 200 -\n",
            "INFO:werkzeug:172.28.0.2 - - [16/Nov/2022 18:06:18] \"\u001b[37mPOST /update HTTP/1.1\u001b[0m\" 200 -\n",
            "INFO:werkzeug:172.28.0.2 - - [16/Nov/2022 18:06:18] \"\u001b[37mGET /parameters HTTP/1.1\u001b[0m\" 200 -\n",
            "INFO:werkzeug:172.28.0.2 - - [16/Nov/2022 18:06:21] \"\u001b[37mPOST /update HTTP/1.1\u001b[0m\" 200 -\n",
            "INFO:werkzeug:172.28.0.2 - - [16/Nov/2022 18:06:21] \"\u001b[37mGET /parameters HTTP/1.1\u001b[0m\" 200 -\n",
            "INFO:werkzeug:172.28.0.2 - - [16/Nov/2022 18:06:23] \"\u001b[37mPOST /update HTTP/1.1\u001b[0m\" 200 -\n",
            "INFO:werkzeug:172.28.0.2 - - [16/Nov/2022 18:06:23] \"\u001b[37mGET /parameters HTTP/1.1\u001b[0m\" 200 -\n",
            "INFO:werkzeug:172.28.0.2 - - [16/Nov/2022 18:06:26] \"\u001b[37mPOST /update HTTP/1.1\u001b[0m\" 200 -\n",
            "INFO:werkzeug:172.28.0.2 - - [16/Nov/2022 18:06:26] \"\u001b[37mGET /parameters HTTP/1.1\u001b[0m\" 200 -\n",
            "INFO:werkzeug:172.28.0.2 - - [16/Nov/2022 18:06:29] \"\u001b[37mPOST /update HTTP/1.1\u001b[0m\" 200 -\n",
            "INFO:werkzeug:172.28.0.2 - - [16/Nov/2022 18:06:29] \"\u001b[37mGET /parameters HTTP/1.1\u001b[0m\" 200 -\n",
            "INFO:werkzeug:172.28.0.2 - - [16/Nov/2022 18:06:31] \"\u001b[37mPOST /update HTTP/1.1\u001b[0m\" 200 -\n",
            "INFO:werkzeug:172.28.0.2 - - [16/Nov/2022 18:06:31] \"\u001b[37mGET /parameters HTTP/1.1\u001b[0m\" 200 -\n"
          ]
        },
        {
          "output_type": "stream",
          "name": "stdout",
          "text": [
            ">>> Async training complete.\n",
            "144/144 [==============================] - 1s 4ms/step - loss: 0.0031\n",
            "Test Loss: 0.0031452171970158815\n"
          ]
        }
      ]
    },
    {
      "cell_type": "code",
      "source": [],
      "metadata": {
        "id": "mEJX6TDku083"
      },
      "execution_count": null,
      "outputs": []
    },
    {
      "cell_type": "code",
      "source": [],
      "metadata": {
        "id": "cItWZF63MOBD"
      },
      "execution_count": null,
      "outputs": []
    },
    {
      "cell_type": "code",
      "source": [],
      "metadata": {
        "id": "qD9exFAuMODZ"
      },
      "execution_count": null,
      "outputs": []
    }
  ]
}